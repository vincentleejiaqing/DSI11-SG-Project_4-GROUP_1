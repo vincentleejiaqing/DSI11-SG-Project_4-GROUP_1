{
 "cells": [
  {
   "cell_type": "markdown",
   "metadata": {},
   "source": [
    "## Project 4: West Nile Virus Detection"
   ]
  },
  {
   "cell_type": "markdown",
   "metadata": {},
   "source": [
    "\n",
    "\n",
    "### Problem Statement"
   ]
  },
  {
   "cell_type": "markdown",
   "metadata": {},
   "source": [
    "To analyse weather data and GIS data to build a statistical model for the **optimal prediction of the presence, time, location and species of West Nile Virus (WNV) in Chicago.**\n",
    "\n",
    "Concurrently, The Chicago Municipality and Chicago Department of Public Health is interested in identifying the highest number of WNV cases possible (sensitivity) rather than avoid False Positives, (where WNV is predicted but there isn't a case). \n",
    "\n",
    "This is due the high cost of an undetected WNV (due to health implications) as compared to the cost involved in spraying an area with presticide due to a false alarm.\n",
    "\n",
    "Success is evaluated by ensuring that the model has the **highest Area Under the Curve score**, which signifies that the model is robust enough to allow flexible choice of thresholds. This can be verified on the Kaggle Website.\n",
    "\n",
    "The Chicago Municipality and Chicago Department of Public Health can choose the model with the **highest sensitivity when WNV is pandemic** and subsequently, model with the **highest precision** when the number of incidences is lower."
   ]
  },
  {
   "cell_type": "markdown",
   "metadata": {},
   "source": [
    "### Executive Summary\n",
    "\n",
    "- West Nile Virus is most commmonly spread through infected mosquitos\n",
    "- 20% of people who are infected, develop symptoms ranging from fever, to serious neurological illness and death.\n",
    "- In 2002, first human cases of WNV\twere reported in Chicago. By 2004 the City of Chicago and the Chicago Department of\tPublic Health (CDPH) had established a comprehensive surveillance and control program.\n",
    "- Every week, mosquitos in traps across the city are tested for the virus. The results of these tests infludence when and where the city will spray pesticides.\n",
    "- Given weather, location, testing, and spraying data, Chicago Municipality and CDPH \n",
    "\n",
    "\n",
    "\n",
    "\n",
    "\n",
    "\n",
    "### Contents:\n",
    "- [Train/Test Data Import](#Train/Test-Data-Import)\n",
    "- [Explatory Data Analysis and Cleaning](#Explatory-Data-Analysis-and-Cleaning)\n",
    "- [Feature Engineering](#Feature-Engineering)\n",
    "- [Assessment of P values, and Modelling](#Assessment-of-P-values,-and-Modelling)\n"
   ]
  },
  {
   "cell_type": "code",
   "execution_count": 150,
   "metadata": {},
   "outputs": [],
   "source": [
    "#*All libraries used should be added here*\n",
    "import numpy as np\n",
    "import pandas as pd\n",
    "import matplotlib.pyplot as plt\n",
    "import seaborn as sns\n",
    "sns.set_style('whitegrid')\n",
    "%matplotlib inline"
   ]
  },
  {
   "cell_type": "markdown",
   "metadata": {},
   "source": [
    "## Train/Test Data Import "
   ]
  },
  {
   "cell_type": "markdown",
   "metadata": {},
   "source": [
    "#### Read in Train and Test Data\n"
   ]
  },
  {
   "cell_type": "code",
   "execution_count": 151,
   "metadata": {},
   "outputs": [
    {
     "data": {
      "text/html": [
       "<div>\n",
       "<style scoped>\n",
       "    .dataframe tbody tr th:only-of-type {\n",
       "        vertical-align: middle;\n",
       "    }\n",
       "\n",
       "    .dataframe tbody tr th {\n",
       "        vertical-align: top;\n",
       "    }\n",
       "\n",
       "    .dataframe thead th {\n",
       "        text-align: right;\n",
       "    }\n",
       "</style>\n",
       "<table border=\"1\" class=\"dataframe\">\n",
       "  <thead>\n",
       "    <tr style=\"text-align: right;\">\n",
       "      <th></th>\n",
       "      <th>Date</th>\n",
       "      <th>Address</th>\n",
       "      <th>Species</th>\n",
       "      <th>Block</th>\n",
       "      <th>Street</th>\n",
       "      <th>Trap</th>\n",
       "      <th>AddressNumberAndStreet</th>\n",
       "      <th>Latitude</th>\n",
       "      <th>Longitude</th>\n",
       "      <th>AddressAccuracy</th>\n",
       "      <th>NumMosquitos</th>\n",
       "      <th>WnvPresent</th>\n",
       "    </tr>\n",
       "  </thead>\n",
       "  <tbody>\n",
       "    <tr>\n",
       "      <th>0</th>\n",
       "      <td>2007-05-29</td>\n",
       "      <td>4100 North Oak Park Avenue, Chicago, IL 60634,...</td>\n",
       "      <td>CULEX PIPIENS/RESTUANS</td>\n",
       "      <td>41</td>\n",
       "      <td>N OAK PARK AVE</td>\n",
       "      <td>T002</td>\n",
       "      <td>4100  N OAK PARK AVE, Chicago, IL</td>\n",
       "      <td>41.954690</td>\n",
       "      <td>-87.800991</td>\n",
       "      <td>9</td>\n",
       "      <td>1</td>\n",
       "      <td>0</td>\n",
       "    </tr>\n",
       "    <tr>\n",
       "      <th>1</th>\n",
       "      <td>2007-05-29</td>\n",
       "      <td>4100 North Oak Park Avenue, Chicago, IL 60634,...</td>\n",
       "      <td>CULEX RESTUANS</td>\n",
       "      <td>41</td>\n",
       "      <td>N OAK PARK AVE</td>\n",
       "      <td>T002</td>\n",
       "      <td>4100  N OAK PARK AVE, Chicago, IL</td>\n",
       "      <td>41.954690</td>\n",
       "      <td>-87.800991</td>\n",
       "      <td>9</td>\n",
       "      <td>1</td>\n",
       "      <td>0</td>\n",
       "    </tr>\n",
       "    <tr>\n",
       "      <th>2</th>\n",
       "      <td>2007-05-29</td>\n",
       "      <td>6200 North Mandell Avenue, Chicago, IL 60646, USA</td>\n",
       "      <td>CULEX RESTUANS</td>\n",
       "      <td>62</td>\n",
       "      <td>N MANDELL AVE</td>\n",
       "      <td>T007</td>\n",
       "      <td>6200  N MANDELL AVE, Chicago, IL</td>\n",
       "      <td>41.994991</td>\n",
       "      <td>-87.769279</td>\n",
       "      <td>9</td>\n",
       "      <td>1</td>\n",
       "      <td>0</td>\n",
       "    </tr>\n",
       "    <tr>\n",
       "      <th>3</th>\n",
       "      <td>2007-05-29</td>\n",
       "      <td>7900 West Foster Avenue, Chicago, IL 60656, USA</td>\n",
       "      <td>CULEX PIPIENS/RESTUANS</td>\n",
       "      <td>79</td>\n",
       "      <td>W FOSTER AVE</td>\n",
       "      <td>T015</td>\n",
       "      <td>7900  W FOSTER AVE, Chicago, IL</td>\n",
       "      <td>41.974089</td>\n",
       "      <td>-87.824812</td>\n",
       "      <td>8</td>\n",
       "      <td>1</td>\n",
       "      <td>0</td>\n",
       "    </tr>\n",
       "    <tr>\n",
       "      <th>4</th>\n",
       "      <td>2007-05-29</td>\n",
       "      <td>7900 West Foster Avenue, Chicago, IL 60656, USA</td>\n",
       "      <td>CULEX RESTUANS</td>\n",
       "      <td>79</td>\n",
       "      <td>W FOSTER AVE</td>\n",
       "      <td>T015</td>\n",
       "      <td>7900  W FOSTER AVE, Chicago, IL</td>\n",
       "      <td>41.974089</td>\n",
       "      <td>-87.824812</td>\n",
       "      <td>8</td>\n",
       "      <td>4</td>\n",
       "      <td>0</td>\n",
       "    </tr>\n",
       "  </tbody>\n",
       "</table>\n",
       "</div>"
      ],
      "text/plain": [
       "         Date                                            Address  \\\n",
       "0  2007-05-29  4100 North Oak Park Avenue, Chicago, IL 60634,...   \n",
       "1  2007-05-29  4100 North Oak Park Avenue, Chicago, IL 60634,...   \n",
       "2  2007-05-29  6200 North Mandell Avenue, Chicago, IL 60646, USA   \n",
       "3  2007-05-29    7900 West Foster Avenue, Chicago, IL 60656, USA   \n",
       "4  2007-05-29    7900 West Foster Avenue, Chicago, IL 60656, USA   \n",
       "\n",
       "                  Species  Block           Street  Trap  \\\n",
       "0  CULEX PIPIENS/RESTUANS     41   N OAK PARK AVE  T002   \n",
       "1          CULEX RESTUANS     41   N OAK PARK AVE  T002   \n",
       "2          CULEX RESTUANS     62    N MANDELL AVE  T007   \n",
       "3  CULEX PIPIENS/RESTUANS     79     W FOSTER AVE  T015   \n",
       "4          CULEX RESTUANS     79     W FOSTER AVE  T015   \n",
       "\n",
       "              AddressNumberAndStreet   Latitude  Longitude  AddressAccuracy  \\\n",
       "0  4100  N OAK PARK AVE, Chicago, IL  41.954690 -87.800991                9   \n",
       "1  4100  N OAK PARK AVE, Chicago, IL  41.954690 -87.800991                9   \n",
       "2   6200  N MANDELL AVE, Chicago, IL  41.994991 -87.769279                9   \n",
       "3    7900  W FOSTER AVE, Chicago, IL  41.974089 -87.824812                8   \n",
       "4    7900  W FOSTER AVE, Chicago, IL  41.974089 -87.824812                8   \n",
       "\n",
       "   NumMosquitos  WnvPresent  \n",
       "0             1           0  \n",
       "1             1           0  \n",
       "2             1           0  \n",
       "3             1           0  \n",
       "4             4           0  "
      ]
     },
     "execution_count": 151,
     "metadata": {},
     "output_type": "execute_result"
    }
   ],
   "source": [
    "trainDf = pd.read_csv('train.csv')\n",
    "trainDf.head()"
   ]
  },
  {
   "cell_type": "markdown",
   "metadata": {},
   "source": [
    "Since the lat/long are derived attributes based on address, block, street, etc., we can drop these columns and only use lat/long to determine geo-location."
   ]
  },
  {
   "cell_type": "code",
   "execution_count": 152,
   "metadata": {},
   "outputs": [
    {
     "data": {
      "text/html": [
       "<div>\n",
       "<style scoped>\n",
       "    .dataframe tbody tr th:only-of-type {\n",
       "        vertical-align: middle;\n",
       "    }\n",
       "\n",
       "    .dataframe tbody tr th {\n",
       "        vertical-align: top;\n",
       "    }\n",
       "\n",
       "    .dataframe thead th {\n",
       "        text-align: right;\n",
       "    }\n",
       "</style>\n",
       "<table border=\"1\" class=\"dataframe\">\n",
       "  <thead>\n",
       "    <tr style=\"text-align: right;\">\n",
       "      <th></th>\n",
       "      <th>Date</th>\n",
       "      <th>Species</th>\n",
       "      <th>Trap</th>\n",
       "      <th>Latitude</th>\n",
       "      <th>Longitude</th>\n",
       "      <th>AddressAccuracy</th>\n",
       "      <th>NumMosquitos</th>\n",
       "      <th>WnvPresent</th>\n",
       "    </tr>\n",
       "  </thead>\n",
       "  <tbody>\n",
       "    <tr>\n",
       "      <th>0</th>\n",
       "      <td>2007-05-29</td>\n",
       "      <td>CULEX PIPIENS/RESTUANS</td>\n",
       "      <td>T002</td>\n",
       "      <td>41.954690</td>\n",
       "      <td>-87.800991</td>\n",
       "      <td>9</td>\n",
       "      <td>1</td>\n",
       "      <td>0</td>\n",
       "    </tr>\n",
       "    <tr>\n",
       "      <th>1</th>\n",
       "      <td>2007-05-29</td>\n",
       "      <td>CULEX RESTUANS</td>\n",
       "      <td>T002</td>\n",
       "      <td>41.954690</td>\n",
       "      <td>-87.800991</td>\n",
       "      <td>9</td>\n",
       "      <td>1</td>\n",
       "      <td>0</td>\n",
       "    </tr>\n",
       "    <tr>\n",
       "      <th>2</th>\n",
       "      <td>2007-05-29</td>\n",
       "      <td>CULEX RESTUANS</td>\n",
       "      <td>T007</td>\n",
       "      <td>41.994991</td>\n",
       "      <td>-87.769279</td>\n",
       "      <td>9</td>\n",
       "      <td>1</td>\n",
       "      <td>0</td>\n",
       "    </tr>\n",
       "    <tr>\n",
       "      <th>3</th>\n",
       "      <td>2007-05-29</td>\n",
       "      <td>CULEX PIPIENS/RESTUANS</td>\n",
       "      <td>T015</td>\n",
       "      <td>41.974089</td>\n",
       "      <td>-87.824812</td>\n",
       "      <td>8</td>\n",
       "      <td>1</td>\n",
       "      <td>0</td>\n",
       "    </tr>\n",
       "    <tr>\n",
       "      <th>4</th>\n",
       "      <td>2007-05-29</td>\n",
       "      <td>CULEX RESTUANS</td>\n",
       "      <td>T015</td>\n",
       "      <td>41.974089</td>\n",
       "      <td>-87.824812</td>\n",
       "      <td>8</td>\n",
       "      <td>4</td>\n",
       "      <td>0</td>\n",
       "    </tr>\n",
       "  </tbody>\n",
       "</table>\n",
       "</div>"
      ],
      "text/plain": [
       "         Date                 Species  Trap   Latitude  Longitude  \\\n",
       "0  2007-05-29  CULEX PIPIENS/RESTUANS  T002  41.954690 -87.800991   \n",
       "1  2007-05-29          CULEX RESTUANS  T002  41.954690 -87.800991   \n",
       "2  2007-05-29          CULEX RESTUANS  T007  41.994991 -87.769279   \n",
       "3  2007-05-29  CULEX PIPIENS/RESTUANS  T015  41.974089 -87.824812   \n",
       "4  2007-05-29          CULEX RESTUANS  T015  41.974089 -87.824812   \n",
       "\n",
       "   AddressAccuracy  NumMosquitos  WnvPresent  \n",
       "0                9             1           0  \n",
       "1                9             1           0  \n",
       "2                9             1           0  \n",
       "3                8             1           0  \n",
       "4                8             4           0  "
      ]
     },
     "execution_count": 152,
     "metadata": {},
     "output_type": "execute_result"
    }
   ],
   "source": [
    "trainDf.drop(['Address','Block','Street','AddressNumberAndStreet'],axis=1,inplace=True)\n",
    "trainDf.head()"
   ]
  },
  {
   "cell_type": "code",
   "execution_count": 153,
   "metadata": {},
   "outputs": [
    {
     "data": {
      "text/plain": [
       "(10506, 8)"
      ]
     },
     "execution_count": 153,
     "metadata": {},
     "output_type": "execute_result"
    }
   ],
   "source": [
    "trainDf.shape"
   ]
  },
  {
   "cell_type": "markdown",
   "metadata": {},
   "source": [
    "The train dataset contains 10506 rows and 12 columns."
   ]
  },
  {
   "cell_type": "code",
   "execution_count": 154,
   "metadata": {},
   "outputs": [
    {
     "data": {
      "text/plain": [
       "Date               0\n",
       "Species            0\n",
       "Trap               0\n",
       "Latitude           0\n",
       "Longitude          0\n",
       "AddressAccuracy    0\n",
       "NumMosquitos       0\n",
       "WnvPresent         0\n",
       "dtype: int64"
      ]
     },
     "execution_count": 154,
     "metadata": {},
     "output_type": "execute_result"
    }
   ],
   "source": [
    "trainDf.isnull().sum()"
   ]
  },
  {
   "cell_type": "markdown",
   "metadata": {},
   "source": [
    "There are no null values in the train dataset, which simplifies the data cleaning process."
   ]
  },
  {
   "cell_type": "code",
   "execution_count": 155,
   "metadata": {},
   "outputs": [
    {
     "data": {
      "text/html": [
       "<div>\n",
       "<style scoped>\n",
       "    .dataframe tbody tr th:only-of-type {\n",
       "        vertical-align: middle;\n",
       "    }\n",
       "\n",
       "    .dataframe tbody tr th {\n",
       "        vertical-align: top;\n",
       "    }\n",
       "\n",
       "    .dataframe thead th {\n",
       "        text-align: right;\n",
       "    }\n",
       "</style>\n",
       "<table border=\"1\" class=\"dataframe\">\n",
       "  <thead>\n",
       "    <tr style=\"text-align: right;\">\n",
       "      <th></th>\n",
       "      <th>Latitude</th>\n",
       "      <th>Longitude</th>\n",
       "      <th>AddressAccuracy</th>\n",
       "      <th>NumMosquitos</th>\n",
       "      <th>WnvPresent</th>\n",
       "    </tr>\n",
       "  </thead>\n",
       "  <tbody>\n",
       "    <tr>\n",
       "      <th>count</th>\n",
       "      <td>10506.000000</td>\n",
       "      <td>10506.000000</td>\n",
       "      <td>10506.000000</td>\n",
       "      <td>10506.000000</td>\n",
       "      <td>10506.000000</td>\n",
       "    </tr>\n",
       "    <tr>\n",
       "      <th>mean</th>\n",
       "      <td>41.841139</td>\n",
       "      <td>-87.699908</td>\n",
       "      <td>7.819532</td>\n",
       "      <td>12.853512</td>\n",
       "      <td>0.052446</td>\n",
       "    </tr>\n",
       "    <tr>\n",
       "      <th>std</th>\n",
       "      <td>0.112742</td>\n",
       "      <td>0.096514</td>\n",
       "      <td>1.452921</td>\n",
       "      <td>16.133816</td>\n",
       "      <td>0.222936</td>\n",
       "    </tr>\n",
       "    <tr>\n",
       "      <th>min</th>\n",
       "      <td>41.644612</td>\n",
       "      <td>-87.930995</td>\n",
       "      <td>3.000000</td>\n",
       "      <td>1.000000</td>\n",
       "      <td>0.000000</td>\n",
       "    </tr>\n",
       "    <tr>\n",
       "      <th>25%</th>\n",
       "      <td>41.732984</td>\n",
       "      <td>-87.760070</td>\n",
       "      <td>8.000000</td>\n",
       "      <td>2.000000</td>\n",
       "      <td>0.000000</td>\n",
       "    </tr>\n",
       "    <tr>\n",
       "      <th>50%</th>\n",
       "      <td>41.846283</td>\n",
       "      <td>-87.694991</td>\n",
       "      <td>8.000000</td>\n",
       "      <td>5.000000</td>\n",
       "      <td>0.000000</td>\n",
       "    </tr>\n",
       "    <tr>\n",
       "      <th>75%</th>\n",
       "      <td>41.954690</td>\n",
       "      <td>-87.627796</td>\n",
       "      <td>9.000000</td>\n",
       "      <td>17.000000</td>\n",
       "      <td>0.000000</td>\n",
       "    </tr>\n",
       "    <tr>\n",
       "      <th>max</th>\n",
       "      <td>42.017430</td>\n",
       "      <td>-87.531635</td>\n",
       "      <td>9.000000</td>\n",
       "      <td>50.000000</td>\n",
       "      <td>1.000000</td>\n",
       "    </tr>\n",
       "  </tbody>\n",
       "</table>\n",
       "</div>"
      ],
      "text/plain": [
       "           Latitude     Longitude  AddressAccuracy  NumMosquitos    WnvPresent\n",
       "count  10506.000000  10506.000000     10506.000000  10506.000000  10506.000000\n",
       "mean      41.841139    -87.699908         7.819532     12.853512      0.052446\n",
       "std        0.112742      0.096514         1.452921     16.133816      0.222936\n",
       "min       41.644612    -87.930995         3.000000      1.000000      0.000000\n",
       "25%       41.732984    -87.760070         8.000000      2.000000      0.000000\n",
       "50%       41.846283    -87.694991         8.000000      5.000000      0.000000\n",
       "75%       41.954690    -87.627796         9.000000     17.000000      0.000000\n",
       "max       42.017430    -87.531635         9.000000     50.000000      1.000000"
      ]
     },
     "execution_count": 155,
     "metadata": {},
     "output_type": "execute_result"
    }
   ],
   "source": [
    "trainDf.describe()"
   ]
  },
  {
   "cell_type": "markdown",
   "metadata": {},
   "source": [
    "Focus on the 'WnvPresent' column. Based on the information above, the dataset we have is highly inbalanced (only 5% of the rows contain data points which represents the presence of the WNV virus). This would be a problem for our model subsequently; hence, some additional effort would be required to balance out the dataset (e.g. by bootstrapping, oversampling, undersampling, SMOTE)"
   ]
  },
  {
   "cell_type": "code",
   "execution_count": 156,
   "metadata": {},
   "outputs": [
    {
     "data": {
      "text/plain": [
       "Index(['Date', 'Species', 'Trap', 'Latitude', 'Longitude', 'AddressAccuracy',\n",
       "       'NumMosquitos', 'WnvPresent'],\n",
       "      dtype='object')"
      ]
     },
     "execution_count": 156,
     "metadata": {},
     "output_type": "execute_result"
    }
   ],
   "source": [
    "trainDf.columns"
   ]
  },
  {
   "cell_type": "code",
   "execution_count": 157,
   "metadata": {},
   "outputs": [
    {
     "data": {
      "text/plain": [
       "Date                object\n",
       "Species             object\n",
       "Trap                object\n",
       "Latitude           float64\n",
       "Longitude          float64\n",
       "AddressAccuracy      int64\n",
       "NumMosquitos         int64\n",
       "WnvPresent           int64\n",
       "dtype: object"
      ]
     },
     "execution_count": 157,
     "metadata": {},
     "output_type": "execute_result"
    }
   ],
   "source": [
    "trainDf.dtypes"
   ]
  },
  {
   "cell_type": "markdown",
   "metadata": {},
   "source": [
    "Convert the date column to datetime object so that subsequent operations can be done."
   ]
  },
  {
   "cell_type": "code",
   "execution_count": 158,
   "metadata": {},
   "outputs": [],
   "source": [
    "trainDf['Date'] = pd.to_datetime(trainDf['Date'])"
   ]
  },
  {
   "cell_type": "code",
   "execution_count": 159,
   "metadata": {},
   "outputs": [
    {
     "data": {
      "text/plain": [
       "Date               datetime64[ns]\n",
       "Species                    object\n",
       "Trap                       object\n",
       "Latitude                  float64\n",
       "Longitude                 float64\n",
       "AddressAccuracy             int64\n",
       "NumMosquitos                int64\n",
       "WnvPresent                  int64\n",
       "dtype: object"
      ]
     },
     "execution_count": 159,
     "metadata": {},
     "output_type": "execute_result"
    }
   ],
   "source": [
    "trainDf.dtypes"
   ]
  },
  {
   "cell_type": "markdown",
   "metadata": {},
   "source": [
    "Import spray.csv file which may provide additional insights to the data."
   ]
  },
  {
   "cell_type": "code",
   "execution_count": 160,
   "metadata": {},
   "outputs": [
    {
     "data": {
      "text/html": [
       "<div>\n",
       "<style scoped>\n",
       "    .dataframe tbody tr th:only-of-type {\n",
       "        vertical-align: middle;\n",
       "    }\n",
       "\n",
       "    .dataframe tbody tr th {\n",
       "        vertical-align: top;\n",
       "    }\n",
       "\n",
       "    .dataframe thead th {\n",
       "        text-align: right;\n",
       "    }\n",
       "</style>\n",
       "<table border=\"1\" class=\"dataframe\">\n",
       "  <thead>\n",
       "    <tr style=\"text-align: right;\">\n",
       "      <th></th>\n",
       "      <th>Date</th>\n",
       "      <th>Time</th>\n",
       "      <th>Latitude</th>\n",
       "      <th>Longitude</th>\n",
       "    </tr>\n",
       "  </thead>\n",
       "  <tbody>\n",
       "    <tr>\n",
       "      <th>0</th>\n",
       "      <td>2011-08-29</td>\n",
       "      <td>6:56:58 PM</td>\n",
       "      <td>42.391623</td>\n",
       "      <td>-88.089163</td>\n",
       "    </tr>\n",
       "    <tr>\n",
       "      <th>1</th>\n",
       "      <td>2011-08-29</td>\n",
       "      <td>6:57:08 PM</td>\n",
       "      <td>42.391348</td>\n",
       "      <td>-88.089163</td>\n",
       "    </tr>\n",
       "    <tr>\n",
       "      <th>2</th>\n",
       "      <td>2011-08-29</td>\n",
       "      <td>6:57:18 PM</td>\n",
       "      <td>42.391022</td>\n",
       "      <td>-88.089157</td>\n",
       "    </tr>\n",
       "    <tr>\n",
       "      <th>3</th>\n",
       "      <td>2011-08-29</td>\n",
       "      <td>6:57:28 PM</td>\n",
       "      <td>42.390637</td>\n",
       "      <td>-88.089158</td>\n",
       "    </tr>\n",
       "    <tr>\n",
       "      <th>4</th>\n",
       "      <td>2011-08-29</td>\n",
       "      <td>6:57:38 PM</td>\n",
       "      <td>42.390410</td>\n",
       "      <td>-88.088858</td>\n",
       "    </tr>\n",
       "  </tbody>\n",
       "</table>\n",
       "</div>"
      ],
      "text/plain": [
       "         Date        Time   Latitude  Longitude\n",
       "0  2011-08-29  6:56:58 PM  42.391623 -88.089163\n",
       "1  2011-08-29  6:57:08 PM  42.391348 -88.089163\n",
       "2  2011-08-29  6:57:18 PM  42.391022 -88.089157\n",
       "3  2011-08-29  6:57:28 PM  42.390637 -88.089158\n",
       "4  2011-08-29  6:57:38 PM  42.390410 -88.088858"
      ]
     },
     "execution_count": 160,
     "metadata": {},
     "output_type": "execute_result"
    }
   ],
   "source": [
    "sprayDf = pd.read_csv('spray.csv')\n",
    "sprayDf.head()"
   ]
  },
  {
   "cell_type": "code",
   "execution_count": 161,
   "metadata": {},
   "outputs": [
    {
     "data": {
      "text/plain": [
       "(14835, 4)"
      ]
     },
     "execution_count": 161,
     "metadata": {},
     "output_type": "execute_result"
    }
   ],
   "source": [
    "sprayDf.shape"
   ]
  },
  {
   "cell_type": "markdown",
   "metadata": {},
   "source": [
    "The spray dataset contains 14835 rows and 4 columns."
   ]
  },
  {
   "cell_type": "code",
   "execution_count": 162,
   "metadata": {},
   "outputs": [
    {
     "data": {
      "text/plain": [
       "Date           0\n",
       "Time         584\n",
       "Latitude       0\n",
       "Longitude      0\n",
       "dtype: int64"
      ]
     },
     "execution_count": 162,
     "metadata": {},
     "output_type": "execute_result"
    }
   ],
   "source": [
    "sprayDf.isnull().sum()"
   ]
  },
  {
   "cell_type": "markdown",
   "metadata": {},
   "source": [
    "There are some null values in the 'Time' column, but not in the 'Date' column. There is no need to drop any rows since we can just make use of 'Date' for subsequent analysis."
   ]
  },
  {
   "cell_type": "code",
   "execution_count": 163,
   "metadata": {},
   "outputs": [
    {
     "data": {
      "text/plain": [
       "Date          object\n",
       "Time          object\n",
       "Latitude     float64\n",
       "Longitude    float64\n",
       "dtype: object"
      ]
     },
     "execution_count": 163,
     "metadata": {},
     "output_type": "execute_result"
    }
   ],
   "source": [
    "sprayDf.dtypes"
   ]
  },
  {
   "cell_type": "markdown",
   "metadata": {},
   "source": [
    "Similar to above, convert 'Date' column to datetime object for operations."
   ]
  },
  {
   "cell_type": "code",
   "execution_count": 164,
   "metadata": {},
   "outputs": [],
   "source": [
    "sprayDf['Date'] = pd.to_datetime(sprayDf['Date'])"
   ]
  },
  {
   "cell_type": "code",
   "execution_count": 165,
   "metadata": {},
   "outputs": [
    {
     "data": {
      "text/plain": [
       "Date         datetime64[ns]\n",
       "Time                 object\n",
       "Latitude            float64\n",
       "Longitude           float64\n",
       "dtype: object"
      ]
     },
     "execution_count": 165,
     "metadata": {},
     "output_type": "execute_result"
    }
   ],
   "source": [
    "sprayDf.dtypes"
   ]
  },
  {
   "cell_type": "markdown",
   "metadata": {},
   "source": [
    "Merge trainDf and sprayDf datasets into a single dataset, using the geo-location as match key. Since geo-location has high resolution, we round the lat/long values in both dataframes to 3dp (~= 100 metres). "
   ]
  },
  {
   "cell_type": "code",
   "execution_count": 166,
   "metadata": {},
   "outputs": [],
   "source": [
    "trainDf['Latitude'] = trainDf['Latitude'].round(3)\n",
    "trainDf['Longitude'] = trainDf['Longitude'].round(3)"
   ]
  },
  {
   "cell_type": "code",
   "execution_count": 167,
   "metadata": {},
   "outputs": [],
   "source": [
    "sprayDf['Latitude'] = sprayDf['Latitude'].round(3)\n",
    "sprayDf['Longitude'] = sprayDf['Longitude'].round(3)"
   ]
  },
  {
   "cell_type": "markdown",
   "metadata": {},
   "source": [
    "Aggregate the spraying data points and calculate the count, max, min, peak-to-peak values for each lat/long geo-location."
   ]
  },
  {
   "cell_type": "code",
   "execution_count": 168,
   "metadata": {},
   "outputs": [
    {
     "data": {
      "text/html": [
       "<div>\n",
       "<style scoped>\n",
       "    .dataframe tbody tr th:only-of-type {\n",
       "        vertical-align: middle;\n",
       "    }\n",
       "\n",
       "    .dataframe tbody tr th {\n",
       "        vertical-align: top;\n",
       "    }\n",
       "\n",
       "    .dataframe thead th {\n",
       "        text-align: right;\n",
       "    }\n",
       "</style>\n",
       "<table border=\"1\" class=\"dataframe\">\n",
       "  <thead>\n",
       "    <tr style=\"text-align: right;\">\n",
       "      <th></th>\n",
       "      <th>Latitude</th>\n",
       "      <th>Longitude</th>\n",
       "      <th>count</th>\n",
       "      <th>max</th>\n",
       "      <th>min</th>\n",
       "      <th>ptp</th>\n",
       "    </tr>\n",
       "  </thead>\n",
       "  <tbody>\n",
       "    <tr>\n",
       "      <th>5908</th>\n",
       "      <td>41.997</td>\n",
       "      <td>-87.811</td>\n",
       "      <td>3</td>\n",
       "      <td>2013-09-05</td>\n",
       "      <td>2011-09-07</td>\n",
       "      <td>729</td>\n",
       "    </tr>\n",
       "    <tr>\n",
       "      <th>4374</th>\n",
       "      <td>41.954</td>\n",
       "      <td>-87.784</td>\n",
       "      <td>4</td>\n",
       "      <td>2013-08-16</td>\n",
       "      <td>2013-08-15</td>\n",
       "      <td>1</td>\n",
       "    </tr>\n",
       "    <tr>\n",
       "      <th>2527</th>\n",
       "      <td>41.911</td>\n",
       "      <td>-87.750</td>\n",
       "      <td>2</td>\n",
       "      <td>2013-08-16</td>\n",
       "      <td>2013-08-15</td>\n",
       "      <td>1</td>\n",
       "    </tr>\n",
       "    <tr>\n",
       "      <th>4454</th>\n",
       "      <td>41.957</td>\n",
       "      <td>-87.784</td>\n",
       "      <td>3</td>\n",
       "      <td>2013-08-16</td>\n",
       "      <td>2013-08-15</td>\n",
       "      <td>1</td>\n",
       "    </tr>\n",
       "    <tr>\n",
       "      <th>4704</th>\n",
       "      <td>41.965</td>\n",
       "      <td>-87.782</td>\n",
       "      <td>5</td>\n",
       "      <td>2013-08-16</td>\n",
       "      <td>2013-08-15</td>\n",
       "      <td>1</td>\n",
       "    </tr>\n",
       "  </tbody>\n",
       "</table>\n",
       "</div>"
      ],
      "text/plain": [
       "      Latitude  Longitude  count        max        min  ptp\n",
       "5908    41.997    -87.811      3 2013-09-05 2011-09-07  729\n",
       "4374    41.954    -87.784      4 2013-08-16 2013-08-15    1\n",
       "2527    41.911    -87.750      2 2013-08-16 2013-08-15    1\n",
       "4454    41.957    -87.784      3 2013-08-16 2013-08-15    1\n",
       "4704    41.965    -87.782      5 2013-08-16 2013-08-15    1"
      ]
     },
     "execution_count": 168,
     "metadata": {},
     "output_type": "execute_result"
    }
   ],
   "source": [
    "spray1 = sprayDf.groupby(['Latitude','Longitude'])['Date'].agg(['count','max','min']).reset_index()\n",
    "spray1['ptp'] = spray1['max'] - spray1['min']\n",
    "spray1['ptp'] = spray1['ptp'].dt.days\n",
    "spray1 = spray1.sort_values(by='ptp',ascending=False)\n",
    "spray1.head()"
   ]
  },
  {
   "cell_type": "code",
   "execution_count": 169,
   "metadata": {},
   "outputs": [
    {
     "data": {
      "text/html": [
       "<div>\n",
       "<style scoped>\n",
       "    .dataframe tbody tr th:only-of-type {\n",
       "        vertical-align: middle;\n",
       "    }\n",
       "\n",
       "    .dataframe tbody tr th {\n",
       "        vertical-align: top;\n",
       "    }\n",
       "\n",
       "    .dataframe thead th {\n",
       "        text-align: right;\n",
       "    }\n",
       "</style>\n",
       "<table border=\"1\" class=\"dataframe\">\n",
       "  <thead>\n",
       "    <tr style=\"text-align: right;\">\n",
       "      <th></th>\n",
       "      <th>Latitude</th>\n",
       "      <th>Longitude</th>\n",
       "      <th>count</th>\n",
       "      <th>max</th>\n",
       "      <th>min</th>\n",
       "      <th>ptp</th>\n",
       "    </tr>\n",
       "  </thead>\n",
       "  <tbody>\n",
       "    <tr>\n",
       "      <th>2168</th>\n",
       "      <td>41.893</td>\n",
       "      <td>-87.768</td>\n",
       "      <td>3</td>\n",
       "      <td>2013-08-15</td>\n",
       "      <td>2013-08-15</td>\n",
       "      <td>0</td>\n",
       "    </tr>\n",
       "    <tr>\n",
       "      <th>2167</th>\n",
       "      <td>41.893</td>\n",
       "      <td>-87.770</td>\n",
       "      <td>2</td>\n",
       "      <td>2013-08-15</td>\n",
       "      <td>2013-08-15</td>\n",
       "      <td>0</td>\n",
       "    </tr>\n",
       "    <tr>\n",
       "      <th>2166</th>\n",
       "      <td>41.893</td>\n",
       "      <td>-87.772</td>\n",
       "      <td>1</td>\n",
       "      <td>2013-08-15</td>\n",
       "      <td>2013-08-15</td>\n",
       "      <td>0</td>\n",
       "    </tr>\n",
       "    <tr>\n",
       "      <th>2165</th>\n",
       "      <td>41.892</td>\n",
       "      <td>-87.704</td>\n",
       "      <td>1</td>\n",
       "      <td>2013-08-22</td>\n",
       "      <td>2013-08-22</td>\n",
       "      <td>0</td>\n",
       "    </tr>\n",
       "    <tr>\n",
       "      <th>6516</th>\n",
       "      <td>42.396</td>\n",
       "      <td>-88.096</td>\n",
       "      <td>2</td>\n",
       "      <td>2011-08-29</td>\n",
       "      <td>2011-08-29</td>\n",
       "      <td>0</td>\n",
       "    </tr>\n",
       "  </tbody>\n",
       "</table>\n",
       "</div>"
      ],
      "text/plain": [
       "      Latitude  Longitude  count        max        min  ptp\n",
       "2168    41.893    -87.768      3 2013-08-15 2013-08-15    0\n",
       "2167    41.893    -87.770      2 2013-08-15 2013-08-15    0\n",
       "2166    41.893    -87.772      1 2013-08-15 2013-08-15    0\n",
       "2165    41.892    -87.704      1 2013-08-22 2013-08-22    0\n",
       "6516    42.396    -88.096      2 2011-08-29 2011-08-29    0"
      ]
     },
     "execution_count": 169,
     "metadata": {},
     "output_type": "execute_result"
    }
   ],
   "source": [
    "spray1.tail()"
   ]
  },
  {
   "cell_type": "code",
   "execution_count": 170,
   "metadata": {},
   "outputs": [
    {
     "data": {
      "text/plain": [
       "0      6511\n",
       "1         5\n",
       "729       1\n",
       "Name: ptp, dtype: int64"
      ]
     },
     "execution_count": 170,
     "metadata": {},
     "output_type": "execute_result"
    }
   ],
   "source": [
    "spray1['ptp'].value_counts()"
   ]
  },
  {
   "cell_type": "code",
   "execution_count": 171,
   "metadata": {
    "scrolled": true
   },
   "outputs": [
    {
     "data": {
      "text/html": [
       "<div>\n",
       "<style scoped>\n",
       "    .dataframe tbody tr th:only-of-type {\n",
       "        vertical-align: middle;\n",
       "    }\n",
       "\n",
       "    .dataframe tbody tr th {\n",
       "        vertical-align: top;\n",
       "    }\n",
       "\n",
       "    .dataframe thead th {\n",
       "        text-align: right;\n",
       "    }\n",
       "</style>\n",
       "<table border=\"1\" class=\"dataframe\">\n",
       "  <thead>\n",
       "    <tr style=\"text-align: right;\">\n",
       "      <th></th>\n",
       "      <th>Latitude</th>\n",
       "      <th>Longitude</th>\n",
       "      <th>count</th>\n",
       "      <th>max</th>\n",
       "      <th>min</th>\n",
       "      <th>ptp</th>\n",
       "    </tr>\n",
       "  </thead>\n",
       "  <tbody>\n",
       "    <tr>\n",
       "      <th>5908</th>\n",
       "      <td>41.997</td>\n",
       "      <td>-87.811</td>\n",
       "      <td>3</td>\n",
       "      <td>2013-09-05</td>\n",
       "      <td>2011-09-07</td>\n",
       "      <td>729</td>\n",
       "    </tr>\n",
       "    <tr>\n",
       "      <th>4374</th>\n",
       "      <td>41.954</td>\n",
       "      <td>-87.784</td>\n",
       "      <td>4</td>\n",
       "      <td>2013-08-16</td>\n",
       "      <td>2013-08-15</td>\n",
       "      <td>1</td>\n",
       "    </tr>\n",
       "    <tr>\n",
       "      <th>2527</th>\n",
       "      <td>41.911</td>\n",
       "      <td>-87.750</td>\n",
       "      <td>2</td>\n",
       "      <td>2013-08-16</td>\n",
       "      <td>2013-08-15</td>\n",
       "      <td>1</td>\n",
       "    </tr>\n",
       "    <tr>\n",
       "      <th>4454</th>\n",
       "      <td>41.957</td>\n",
       "      <td>-87.784</td>\n",
       "      <td>3</td>\n",
       "      <td>2013-08-16</td>\n",
       "      <td>2013-08-15</td>\n",
       "      <td>1</td>\n",
       "    </tr>\n",
       "    <tr>\n",
       "      <th>4704</th>\n",
       "      <td>41.965</td>\n",
       "      <td>-87.782</td>\n",
       "      <td>5</td>\n",
       "      <td>2013-08-16</td>\n",
       "      <td>2013-08-15</td>\n",
       "      <td>1</td>\n",
       "    </tr>\n",
       "    <tr>\n",
       "      <th>4703</th>\n",
       "      <td>41.965</td>\n",
       "      <td>-87.783</td>\n",
       "      <td>3</td>\n",
       "      <td>2013-08-16</td>\n",
       "      <td>2013-08-15</td>\n",
       "      <td>1</td>\n",
       "    </tr>\n",
       "  </tbody>\n",
       "</table>\n",
       "</div>"
      ],
      "text/plain": [
       "      Latitude  Longitude  count        max        min  ptp\n",
       "5908    41.997    -87.811      3 2013-09-05 2011-09-07  729\n",
       "4374    41.954    -87.784      4 2013-08-16 2013-08-15    1\n",
       "2527    41.911    -87.750      2 2013-08-16 2013-08-15    1\n",
       "4454    41.957    -87.784      3 2013-08-16 2013-08-15    1\n",
       "4704    41.965    -87.782      5 2013-08-16 2013-08-15    1\n",
       "4703    41.965    -87.783      3 2013-08-16 2013-08-15    1"
      ]
     },
     "execution_count": 171,
     "metadata": {},
     "output_type": "execute_result"
    }
   ],
   "source": [
    "spray1[spray1['ptp']>0]"
   ]
  },
  {
   "cell_type": "code",
   "execution_count": 231,
   "metadata": {},
   "outputs": [],
   "source": [
    "spray1.to_csv('spray1.csv',index=False)\n",
    "sprayDf.to_csv('sprayDf.csv',index=False)"
   ]
  },
  {
   "cell_type": "markdown",
   "metadata": {},
   "source": [
    "For most geo-locations, there is only 1 spray date. For those with ptp>1, we will need to examine which dates to use for the subsequent computations."
   ]
  },
  {
   "cell_type": "markdown",
   "metadata": {},
   "source": [
    "Do a left merge on the trainDf dataframe. The resulting combined dataframe will have the same number of rows as the trainDf dataframe."
   ]
  },
  {
   "cell_type": "code",
   "execution_count": 172,
   "metadata": {
    "scrolled": true
   },
   "outputs": [
    {
     "data": {
      "text/html": [
       "<div>\n",
       "<style scoped>\n",
       "    .dataframe tbody tr th:only-of-type {\n",
       "        vertical-align: middle;\n",
       "    }\n",
       "\n",
       "    .dataframe tbody tr th {\n",
       "        vertical-align: top;\n",
       "    }\n",
       "\n",
       "    .dataframe thead th {\n",
       "        text-align: right;\n",
       "    }\n",
       "</style>\n",
       "<table border=\"1\" class=\"dataframe\">\n",
       "  <thead>\n",
       "    <tr style=\"text-align: right;\">\n",
       "      <th></th>\n",
       "      <th>Date</th>\n",
       "      <th>Species</th>\n",
       "      <th>Trap</th>\n",
       "      <th>Latitude</th>\n",
       "      <th>Longitude</th>\n",
       "      <th>AddressAccuracy</th>\n",
       "      <th>NumMosquitos</th>\n",
       "      <th>WnvPresent</th>\n",
       "      <th>count</th>\n",
       "      <th>max</th>\n",
       "      <th>min</th>\n",
       "      <th>ptp</th>\n",
       "      <th>_merge</th>\n",
       "    </tr>\n",
       "  </thead>\n",
       "  <tbody>\n",
       "    <tr>\n",
       "      <th>0</th>\n",
       "      <td>2007-05-29</td>\n",
       "      <td>CULEX PIPIENS/RESTUANS</td>\n",
       "      <td>T015</td>\n",
       "      <td>41.974</td>\n",
       "      <td>-87.825</td>\n",
       "      <td>8</td>\n",
       "      <td>1</td>\n",
       "      <td>0</td>\n",
       "      <td>1</td>\n",
       "      <td>2011-09-07</td>\n",
       "      <td>2011-09-07</td>\n",
       "      <td>0</td>\n",
       "      <td>both</td>\n",
       "    </tr>\n",
       "    <tr>\n",
       "      <th>1</th>\n",
       "      <td>2007-05-29</td>\n",
       "      <td>CULEX RESTUANS</td>\n",
       "      <td>T015</td>\n",
       "      <td>41.974</td>\n",
       "      <td>-87.825</td>\n",
       "      <td>8</td>\n",
       "      <td>4</td>\n",
       "      <td>0</td>\n",
       "      <td>1</td>\n",
       "      <td>2011-09-07</td>\n",
       "      <td>2011-09-07</td>\n",
       "      <td>0</td>\n",
       "      <td>both</td>\n",
       "    </tr>\n",
       "    <tr>\n",
       "      <th>2</th>\n",
       "      <td>2007-06-05</td>\n",
       "      <td>CULEX PIPIENS/RESTUANS</td>\n",
       "      <td>T015</td>\n",
       "      <td>41.974</td>\n",
       "      <td>-87.825</td>\n",
       "      <td>8</td>\n",
       "      <td>1</td>\n",
       "      <td>0</td>\n",
       "      <td>1</td>\n",
       "      <td>2011-09-07</td>\n",
       "      <td>2011-09-07</td>\n",
       "      <td>0</td>\n",
       "      <td>both</td>\n",
       "    </tr>\n",
       "    <tr>\n",
       "      <th>3</th>\n",
       "      <td>2007-06-05</td>\n",
       "      <td>CULEX RESTUANS</td>\n",
       "      <td>T015</td>\n",
       "      <td>41.974</td>\n",
       "      <td>-87.825</td>\n",
       "      <td>8</td>\n",
       "      <td>2</td>\n",
       "      <td>0</td>\n",
       "      <td>1</td>\n",
       "      <td>2011-09-07</td>\n",
       "      <td>2011-09-07</td>\n",
       "      <td>0</td>\n",
       "      <td>both</td>\n",
       "    </tr>\n",
       "    <tr>\n",
       "      <th>4</th>\n",
       "      <td>2007-06-26</td>\n",
       "      <td>CULEX RESTUANS</td>\n",
       "      <td>T015</td>\n",
       "      <td>41.974</td>\n",
       "      <td>-87.825</td>\n",
       "      <td>8</td>\n",
       "      <td>1</td>\n",
       "      <td>0</td>\n",
       "      <td>1</td>\n",
       "      <td>2011-09-07</td>\n",
       "      <td>2011-09-07</td>\n",
       "      <td>0</td>\n",
       "      <td>both</td>\n",
       "    </tr>\n",
       "  </tbody>\n",
       "</table>\n",
       "</div>"
      ],
      "text/plain": [
       "        Date                 Species  Trap  Latitude  Longitude  \\\n",
       "0 2007-05-29  CULEX PIPIENS/RESTUANS  T015    41.974    -87.825   \n",
       "1 2007-05-29          CULEX RESTUANS  T015    41.974    -87.825   \n",
       "2 2007-06-05  CULEX PIPIENS/RESTUANS  T015    41.974    -87.825   \n",
       "3 2007-06-05          CULEX RESTUANS  T015    41.974    -87.825   \n",
       "4 2007-06-26          CULEX RESTUANS  T015    41.974    -87.825   \n",
       "\n",
       "   AddressAccuracy  NumMosquitos  WnvPresent  count        max        min  \\\n",
       "0                8             1           0      1 2011-09-07 2011-09-07   \n",
       "1                8             4           0      1 2011-09-07 2011-09-07   \n",
       "2                8             1           0      1 2011-09-07 2011-09-07   \n",
       "3                8             2           0      1 2011-09-07 2011-09-07   \n",
       "4                8             1           0      1 2011-09-07 2011-09-07   \n",
       "\n",
       "   ptp _merge  \n",
       "0    0   both  \n",
       "1    0   both  \n",
       "2    0   both  \n",
       "3    0   both  \n",
       "4    0   both  "
      ]
     },
     "execution_count": 172,
     "metadata": {},
     "output_type": "execute_result"
    }
   ],
   "source": [
    "sptraininner=pd.merge(trainDf,spray1,on=['Longitude','Latitude'],how='inner',indicator=True)\n",
    "sptraininner.head()"
   ]
  },
  {
   "cell_type": "code",
   "execution_count": 173,
   "metadata": {},
   "outputs": [
    {
     "data": {
      "text/plain": [
       "(963, 13)"
      ]
     },
     "execution_count": 173,
     "metadata": {},
     "output_type": "execute_result"
    }
   ],
   "source": [
    "sptraininner.shape"
   ]
  },
  {
   "cell_type": "code",
   "execution_count": 174,
   "metadata": {},
   "outputs": [
    {
     "data": {
      "text/html": [
       "<div>\n",
       "<style scoped>\n",
       "    .dataframe tbody tr th:only-of-type {\n",
       "        vertical-align: middle;\n",
       "    }\n",
       "\n",
       "    .dataframe tbody tr th {\n",
       "        vertical-align: top;\n",
       "    }\n",
       "\n",
       "    .dataframe thead th {\n",
       "        text-align: right;\n",
       "    }\n",
       "</style>\n",
       "<table border=\"1\" class=\"dataframe\">\n",
       "  <thead>\n",
       "    <tr style=\"text-align: right;\">\n",
       "      <th></th>\n",
       "      <th>Date</th>\n",
       "      <th>Species</th>\n",
       "      <th>Trap</th>\n",
       "      <th>Latitude</th>\n",
       "      <th>Longitude</th>\n",
       "      <th>AddressAccuracy</th>\n",
       "      <th>NumMosquitos</th>\n",
       "      <th>WnvPresent</th>\n",
       "      <th>count</th>\n",
       "      <th>max</th>\n",
       "      <th>min</th>\n",
       "      <th>ptp</th>\n",
       "      <th>_merge</th>\n",
       "    </tr>\n",
       "  </thead>\n",
       "  <tbody>\n",
       "  </tbody>\n",
       "</table>\n",
       "</div>"
      ],
      "text/plain": [
       "Empty DataFrame\n",
       "Columns: [Date, Species, Trap, Latitude, Longitude, AddressAccuracy, NumMosquitos, WnvPresent, count, max, min, ptp, _merge]\n",
       "Index: []"
      ]
     },
     "execution_count": 174,
     "metadata": {},
     "output_type": "execute_result"
    }
   ],
   "source": [
    "sptraininner[sptraininner['ptp']>0]"
   ]
  },
  {
   "cell_type": "code",
   "execution_count": 175,
   "metadata": {
    "scrolled": true
   },
   "outputs": [
    {
     "data": {
      "text/html": [
       "<div>\n",
       "<style scoped>\n",
       "    .dataframe tbody tr th:only-of-type {\n",
       "        vertical-align: middle;\n",
       "    }\n",
       "\n",
       "    .dataframe tbody tr th {\n",
       "        vertical-align: top;\n",
       "    }\n",
       "\n",
       "    .dataframe thead th {\n",
       "        text-align: right;\n",
       "    }\n",
       "</style>\n",
       "<table border=\"1\" class=\"dataframe\">\n",
       "  <thead>\n",
       "    <tr style=\"text-align: right;\">\n",
       "      <th></th>\n",
       "      <th>Date</th>\n",
       "      <th>Species</th>\n",
       "      <th>Trap</th>\n",
       "      <th>Latitude</th>\n",
       "      <th>Longitude</th>\n",
       "      <th>AddressAccuracy</th>\n",
       "      <th>NumMosquitos</th>\n",
       "      <th>WnvPresent</th>\n",
       "      <th>count</th>\n",
       "      <th>max</th>\n",
       "      <th>min</th>\n",
       "      <th>ptp</th>\n",
       "    </tr>\n",
       "  </thead>\n",
       "  <tbody>\n",
       "    <tr>\n",
       "      <th>0</th>\n",
       "      <td>2007-05-29</td>\n",
       "      <td>CULEX PIPIENS/RESTUANS</td>\n",
       "      <td>T002</td>\n",
       "      <td>41.955</td>\n",
       "      <td>-87.801</td>\n",
       "      <td>9</td>\n",
       "      <td>1</td>\n",
       "      <td>0</td>\n",
       "      <td>NaN</td>\n",
       "      <td>NaT</td>\n",
       "      <td>NaT</td>\n",
       "      <td>NaN</td>\n",
       "    </tr>\n",
       "    <tr>\n",
       "      <th>1</th>\n",
       "      <td>2007-05-29</td>\n",
       "      <td>CULEX RESTUANS</td>\n",
       "      <td>T002</td>\n",
       "      <td>41.955</td>\n",
       "      <td>-87.801</td>\n",
       "      <td>9</td>\n",
       "      <td>1</td>\n",
       "      <td>0</td>\n",
       "      <td>NaN</td>\n",
       "      <td>NaT</td>\n",
       "      <td>NaT</td>\n",
       "      <td>NaN</td>\n",
       "    </tr>\n",
       "    <tr>\n",
       "      <th>2</th>\n",
       "      <td>2007-05-29</td>\n",
       "      <td>CULEX RESTUANS</td>\n",
       "      <td>T007</td>\n",
       "      <td>41.995</td>\n",
       "      <td>-87.769</td>\n",
       "      <td>9</td>\n",
       "      <td>1</td>\n",
       "      <td>0</td>\n",
       "      <td>NaN</td>\n",
       "      <td>NaT</td>\n",
       "      <td>NaT</td>\n",
       "      <td>NaN</td>\n",
       "    </tr>\n",
       "    <tr>\n",
       "      <th>3</th>\n",
       "      <td>2007-05-29</td>\n",
       "      <td>CULEX PIPIENS/RESTUANS</td>\n",
       "      <td>T015</td>\n",
       "      <td>41.974</td>\n",
       "      <td>-87.825</td>\n",
       "      <td>8</td>\n",
       "      <td>1</td>\n",
       "      <td>0</td>\n",
       "      <td>1.0</td>\n",
       "      <td>2011-09-07</td>\n",
       "      <td>2011-09-07</td>\n",
       "      <td>0.0</td>\n",
       "    </tr>\n",
       "    <tr>\n",
       "      <th>4</th>\n",
       "      <td>2007-05-29</td>\n",
       "      <td>CULEX RESTUANS</td>\n",
       "      <td>T015</td>\n",
       "      <td>41.974</td>\n",
       "      <td>-87.825</td>\n",
       "      <td>8</td>\n",
       "      <td>4</td>\n",
       "      <td>0</td>\n",
       "      <td>1.0</td>\n",
       "      <td>2011-09-07</td>\n",
       "      <td>2011-09-07</td>\n",
       "      <td>0.0</td>\n",
       "    </tr>\n",
       "  </tbody>\n",
       "</table>\n",
       "</div>"
      ],
      "text/plain": [
       "        Date                 Species  Trap  Latitude  Longitude  \\\n",
       "0 2007-05-29  CULEX PIPIENS/RESTUANS  T002    41.955    -87.801   \n",
       "1 2007-05-29          CULEX RESTUANS  T002    41.955    -87.801   \n",
       "2 2007-05-29          CULEX RESTUANS  T007    41.995    -87.769   \n",
       "3 2007-05-29  CULEX PIPIENS/RESTUANS  T015    41.974    -87.825   \n",
       "4 2007-05-29          CULEX RESTUANS  T015    41.974    -87.825   \n",
       "\n",
       "   AddressAccuracy  NumMosquitos  WnvPresent  count        max        min  ptp  \n",
       "0                9             1           0    NaN        NaT        NaT  NaN  \n",
       "1                9             1           0    NaN        NaT        NaT  NaN  \n",
       "2                9             1           0    NaN        NaT        NaT  NaN  \n",
       "3                8             1           0    1.0 2011-09-07 2011-09-07  0.0  \n",
       "4                8             4           0    1.0 2011-09-07 2011-09-07  0.0  "
      ]
     },
     "execution_count": 175,
     "metadata": {},
     "output_type": "execute_result"
    }
   ],
   "source": [
    "trainSprayCombined = pd.merge(trainDf,spray1,on=['Latitude','Longitude'],how='left')\n",
    "trainSprayCombined.head()"
   ]
  },
  {
   "cell_type": "code",
   "execution_count": 176,
   "metadata": {},
   "outputs": [
    {
     "data": {
      "text/plain": [
       "(10506, 12)"
      ]
     },
     "execution_count": 176,
     "metadata": {},
     "output_type": "execute_result"
    }
   ],
   "source": [
    "trainSprayCombined.shape"
   ]
  },
  {
   "cell_type": "code",
   "execution_count": 177,
   "metadata": {},
   "outputs": [
    {
     "data": {
      "text/html": [
       "<div>\n",
       "<style scoped>\n",
       "    .dataframe tbody tr th:only-of-type {\n",
       "        vertical-align: middle;\n",
       "    }\n",
       "\n",
       "    .dataframe tbody tr th {\n",
       "        vertical-align: top;\n",
       "    }\n",
       "\n",
       "    .dataframe thead th {\n",
       "        text-align: right;\n",
       "    }\n",
       "</style>\n",
       "<table border=\"1\" class=\"dataframe\">\n",
       "  <thead>\n",
       "    <tr style=\"text-align: right;\">\n",
       "      <th></th>\n",
       "      <th>Date</th>\n",
       "      <th>Species</th>\n",
       "      <th>Trap</th>\n",
       "      <th>Latitude</th>\n",
       "      <th>Longitude</th>\n",
       "      <th>AddressAccuracy</th>\n",
       "      <th>NumMosquitos</th>\n",
       "      <th>WnvPresent</th>\n",
       "      <th>count</th>\n",
       "      <th>max</th>\n",
       "      <th>min</th>\n",
       "      <th>ptp</th>\n",
       "    </tr>\n",
       "  </thead>\n",
       "  <tbody>\n",
       "  </tbody>\n",
       "</table>\n",
       "</div>"
      ],
      "text/plain": [
       "Empty DataFrame\n",
       "Columns: [Date, Species, Trap, Latitude, Longitude, AddressAccuracy, NumMosquitos, WnvPresent, count, max, min, ptp]\n",
       "Index: []"
      ]
     },
     "execution_count": 177,
     "metadata": {},
     "output_type": "execute_result"
    }
   ],
   "source": [
    "trainSprayCombined[trainSprayCombined['ptp']>0]"
   ]
  },
  {
   "cell_type": "markdown",
   "metadata": {},
   "source": [
    "After merging, there are no more rows with ptp>0. This means that the 'max' and 'min' spray dates are the same for all data points in this combined dataframe."
   ]
  },
  {
   "cell_type": "code",
   "execution_count": 178,
   "metadata": {},
   "outputs": [],
   "source": [
    "trainSprayCombined['Date'] = pd.to_datetime(trainSprayCombined['Date'])"
   ]
  },
  {
   "cell_type": "markdown",
   "metadata": {},
   "source": [
    "**Feature Engineering** to create new column 'Most_Recent_Spray'. This column represents the most recent spray (from sprayDf), in terms of number of days ago, with respect to the data collection date (from trainDf)."
   ]
  },
  {
   "cell_type": "code",
   "execution_count": 179,
   "metadata": {},
   "outputs": [],
   "source": [
    "trainSprayCombined['Most_Recent_Spray'] = trainSprayCombined['Date']-trainSprayCombined['min']\n",
    "trainSprayCombined['Most_Recent_Spray'] = trainSprayCombined['Most_Recent_Spray'].dt.days\n",
    "trainSprayCombined['Most_Recent_Spray'] = trainSprayCombined['Most_Recent_Spray'].apply(lambda x: x if x > 0 else 3650)"
   ]
  },
  {
   "cell_type": "markdown",
   "metadata": {},
   "source": [
    "Assumption: For rows with no spray record (NaN) and rows with negative recent spray days (which means the spray only occurred after the data collection date), we impute the most recent spray to be 3650 days (10 years ago)."
   ]
  },
  {
   "cell_type": "code",
   "execution_count": 180,
   "metadata": {},
   "outputs": [
    {
     "data": {
      "text/plain": [
       "count    103.000000\n",
       "mean     201.300971\n",
       "std      296.758396\n",
       "min        1.000000\n",
       "25%       15.000000\n",
       "50%       35.000000\n",
       "75%      642.500000\n",
       "max      750.000000\n",
       "Name: Most_Recent_Spray, dtype: float64"
      ]
     },
     "execution_count": 180,
     "metadata": {},
     "output_type": "execute_result"
    }
   ],
   "source": [
    "trainSprayCombined[trainSprayCombined['Most_Recent_Spray']<3650]['Most_Recent_Spray'].describe()"
   ]
  },
  {
   "cell_type": "code",
   "execution_count": 181,
   "metadata": {},
   "outputs": [
    {
     "data": {
      "text/plain": [
       "0    10430\n",
       "1       76\n",
       "Name: Recently_Sprayed, dtype: int64"
      ]
     },
     "execution_count": 181,
     "metadata": {},
     "output_type": "execute_result"
    }
   ],
   "source": [
    "trainSprayCombined['Recently_Sprayed'] = (trainSprayCombined['Most_Recent_Spray']<201).astype(int)\n",
    "trainSprayCombined['Recently_Sprayed'].value_counts()"
   ]
  },
  {
   "cell_type": "code",
   "execution_count": 182,
   "metadata": {},
   "outputs": [
    {
     "data": {
      "text/html": [
       "<div>\n",
       "<style scoped>\n",
       "    .dataframe tbody tr th:only-of-type {\n",
       "        vertical-align: middle;\n",
       "    }\n",
       "\n",
       "    .dataframe tbody tr th {\n",
       "        vertical-align: top;\n",
       "    }\n",
       "\n",
       "    .dataframe thead th {\n",
       "        text-align: right;\n",
       "    }\n",
       "</style>\n",
       "<table border=\"1\" class=\"dataframe\">\n",
       "  <thead>\n",
       "    <tr style=\"text-align: right;\">\n",
       "      <th></th>\n",
       "      <th>Date</th>\n",
       "      <th>Species</th>\n",
       "      <th>Trap</th>\n",
       "      <th>Latitude</th>\n",
       "      <th>Longitude</th>\n",
       "      <th>AddressAccuracy</th>\n",
       "      <th>NumMosquitos</th>\n",
       "      <th>WnvPresent</th>\n",
       "      <th>count</th>\n",
       "      <th>max</th>\n",
       "      <th>min</th>\n",
       "      <th>ptp</th>\n",
       "      <th>Most_Recent_Spray</th>\n",
       "      <th>Recently_Sprayed</th>\n",
       "    </tr>\n",
       "  </thead>\n",
       "  <tbody>\n",
       "    <tr>\n",
       "      <th>0</th>\n",
       "      <td>2007-05-29</td>\n",
       "      <td>CULEX PIPIENS/RESTUANS</td>\n",
       "      <td>T002</td>\n",
       "      <td>41.955</td>\n",
       "      <td>-87.801</td>\n",
       "      <td>9</td>\n",
       "      <td>1</td>\n",
       "      <td>0</td>\n",
       "      <td>NaN</td>\n",
       "      <td>NaT</td>\n",
       "      <td>NaT</td>\n",
       "      <td>NaN</td>\n",
       "      <td>3650.0</td>\n",
       "      <td>0</td>\n",
       "    </tr>\n",
       "    <tr>\n",
       "      <th>1</th>\n",
       "      <td>2007-05-29</td>\n",
       "      <td>CULEX RESTUANS</td>\n",
       "      <td>T002</td>\n",
       "      <td>41.955</td>\n",
       "      <td>-87.801</td>\n",
       "      <td>9</td>\n",
       "      <td>1</td>\n",
       "      <td>0</td>\n",
       "      <td>NaN</td>\n",
       "      <td>NaT</td>\n",
       "      <td>NaT</td>\n",
       "      <td>NaN</td>\n",
       "      <td>3650.0</td>\n",
       "      <td>0</td>\n",
       "    </tr>\n",
       "    <tr>\n",
       "      <th>2</th>\n",
       "      <td>2007-05-29</td>\n",
       "      <td>CULEX RESTUANS</td>\n",
       "      <td>T007</td>\n",
       "      <td>41.995</td>\n",
       "      <td>-87.769</td>\n",
       "      <td>9</td>\n",
       "      <td>1</td>\n",
       "      <td>0</td>\n",
       "      <td>NaN</td>\n",
       "      <td>NaT</td>\n",
       "      <td>NaT</td>\n",
       "      <td>NaN</td>\n",
       "      <td>3650.0</td>\n",
       "      <td>0</td>\n",
       "    </tr>\n",
       "    <tr>\n",
       "      <th>3</th>\n",
       "      <td>2007-05-29</td>\n",
       "      <td>CULEX PIPIENS/RESTUANS</td>\n",
       "      <td>T015</td>\n",
       "      <td>41.974</td>\n",
       "      <td>-87.825</td>\n",
       "      <td>8</td>\n",
       "      <td>1</td>\n",
       "      <td>0</td>\n",
       "      <td>1.0</td>\n",
       "      <td>2011-09-07</td>\n",
       "      <td>2011-09-07</td>\n",
       "      <td>0.0</td>\n",
       "      <td>3650.0</td>\n",
       "      <td>0</td>\n",
       "    </tr>\n",
       "    <tr>\n",
       "      <th>4</th>\n",
       "      <td>2007-05-29</td>\n",
       "      <td>CULEX RESTUANS</td>\n",
       "      <td>T015</td>\n",
       "      <td>41.974</td>\n",
       "      <td>-87.825</td>\n",
       "      <td>8</td>\n",
       "      <td>4</td>\n",
       "      <td>0</td>\n",
       "      <td>1.0</td>\n",
       "      <td>2011-09-07</td>\n",
       "      <td>2011-09-07</td>\n",
       "      <td>0.0</td>\n",
       "      <td>3650.0</td>\n",
       "      <td>0</td>\n",
       "    </tr>\n",
       "    <tr>\n",
       "      <th>...</th>\n",
       "      <td>...</td>\n",
       "      <td>...</td>\n",
       "      <td>...</td>\n",
       "      <td>...</td>\n",
       "      <td>...</td>\n",
       "      <td>...</td>\n",
       "      <td>...</td>\n",
       "      <td>...</td>\n",
       "      <td>...</td>\n",
       "      <td>...</td>\n",
       "      <td>...</td>\n",
       "      <td>...</td>\n",
       "      <td>...</td>\n",
       "      <td>...</td>\n",
       "    </tr>\n",
       "    <tr>\n",
       "      <th>10501</th>\n",
       "      <td>2013-09-26</td>\n",
       "      <td>CULEX PIPIENS/RESTUANS</td>\n",
       "      <td>T035</td>\n",
       "      <td>41.764</td>\n",
       "      <td>-87.742</td>\n",
       "      <td>8</td>\n",
       "      <td>6</td>\n",
       "      <td>1</td>\n",
       "      <td>NaN</td>\n",
       "      <td>NaT</td>\n",
       "      <td>NaT</td>\n",
       "      <td>NaN</td>\n",
       "      <td>3650.0</td>\n",
       "      <td>0</td>\n",
       "    </tr>\n",
       "    <tr>\n",
       "      <th>10502</th>\n",
       "      <td>2013-09-26</td>\n",
       "      <td>CULEX PIPIENS/RESTUANS</td>\n",
       "      <td>T231</td>\n",
       "      <td>41.987</td>\n",
       "      <td>-87.666</td>\n",
       "      <td>8</td>\n",
       "      <td>5</td>\n",
       "      <td>0</td>\n",
       "      <td>NaN</td>\n",
       "      <td>NaT</td>\n",
       "      <td>NaT</td>\n",
       "      <td>NaN</td>\n",
       "      <td>3650.0</td>\n",
       "      <td>0</td>\n",
       "    </tr>\n",
       "    <tr>\n",
       "      <th>10503</th>\n",
       "      <td>2013-09-26</td>\n",
       "      <td>CULEX PIPIENS/RESTUANS</td>\n",
       "      <td>T232</td>\n",
       "      <td>41.913</td>\n",
       "      <td>-87.668</td>\n",
       "      <td>9</td>\n",
       "      <td>1</td>\n",
       "      <td>0</td>\n",
       "      <td>NaN</td>\n",
       "      <td>NaT</td>\n",
       "      <td>NaT</td>\n",
       "      <td>NaN</td>\n",
       "      <td>3650.0</td>\n",
       "      <td>0</td>\n",
       "    </tr>\n",
       "    <tr>\n",
       "      <th>10504</th>\n",
       "      <td>2013-09-26</td>\n",
       "      <td>CULEX PIPIENS/RESTUANS</td>\n",
       "      <td>T233</td>\n",
       "      <td>42.010</td>\n",
       "      <td>-87.807</td>\n",
       "      <td>9</td>\n",
       "      <td>5</td>\n",
       "      <td>0</td>\n",
       "      <td>1.0</td>\n",
       "      <td>2013-09-05</td>\n",
       "      <td>2013-09-05</td>\n",
       "      <td>0.0</td>\n",
       "      <td>21.0</td>\n",
       "      <td>1</td>\n",
       "    </tr>\n",
       "    <tr>\n",
       "      <th>10505</th>\n",
       "      <td>2013-09-26</td>\n",
       "      <td>CULEX PIPIENS/RESTUANS</td>\n",
       "      <td>T235</td>\n",
       "      <td>41.776</td>\n",
       "      <td>-87.627</td>\n",
       "      <td>8</td>\n",
       "      <td>1</td>\n",
       "      <td>0</td>\n",
       "      <td>NaN</td>\n",
       "      <td>NaT</td>\n",
       "      <td>NaT</td>\n",
       "      <td>NaN</td>\n",
       "      <td>3650.0</td>\n",
       "      <td>0</td>\n",
       "    </tr>\n",
       "  </tbody>\n",
       "</table>\n",
       "<p>10506 rows × 14 columns</p>\n",
       "</div>"
      ],
      "text/plain": [
       "            Date                 Species  Trap  Latitude  Longitude  \\\n",
       "0     2007-05-29  CULEX PIPIENS/RESTUANS  T002    41.955    -87.801   \n",
       "1     2007-05-29          CULEX RESTUANS  T002    41.955    -87.801   \n",
       "2     2007-05-29          CULEX RESTUANS  T007    41.995    -87.769   \n",
       "3     2007-05-29  CULEX PIPIENS/RESTUANS  T015    41.974    -87.825   \n",
       "4     2007-05-29          CULEX RESTUANS  T015    41.974    -87.825   \n",
       "...          ...                     ...   ...       ...        ...   \n",
       "10501 2013-09-26  CULEX PIPIENS/RESTUANS  T035    41.764    -87.742   \n",
       "10502 2013-09-26  CULEX PIPIENS/RESTUANS  T231    41.987    -87.666   \n",
       "10503 2013-09-26  CULEX PIPIENS/RESTUANS  T232    41.913    -87.668   \n",
       "10504 2013-09-26  CULEX PIPIENS/RESTUANS  T233    42.010    -87.807   \n",
       "10505 2013-09-26  CULEX PIPIENS/RESTUANS  T235    41.776    -87.627   \n",
       "\n",
       "       AddressAccuracy  NumMosquitos  WnvPresent  count        max        min  \\\n",
       "0                    9             1           0    NaN        NaT        NaT   \n",
       "1                    9             1           0    NaN        NaT        NaT   \n",
       "2                    9             1           0    NaN        NaT        NaT   \n",
       "3                    8             1           0    1.0 2011-09-07 2011-09-07   \n",
       "4                    8             4           0    1.0 2011-09-07 2011-09-07   \n",
       "...                ...           ...         ...    ...        ...        ...   \n",
       "10501                8             6           1    NaN        NaT        NaT   \n",
       "10502                8             5           0    NaN        NaT        NaT   \n",
       "10503                9             1           0    NaN        NaT        NaT   \n",
       "10504                9             5           0    1.0 2013-09-05 2013-09-05   \n",
       "10505                8             1           0    NaN        NaT        NaT   \n",
       "\n",
       "       ptp  Most_Recent_Spray  Recently_Sprayed  \n",
       "0      NaN             3650.0                 0  \n",
       "1      NaN             3650.0                 0  \n",
       "2      NaN             3650.0                 0  \n",
       "3      0.0             3650.0                 0  \n",
       "4      0.0             3650.0                 0  \n",
       "...    ...                ...               ...  \n",
       "10501  NaN             3650.0                 0  \n",
       "10502  NaN             3650.0                 0  \n",
       "10503  NaN             3650.0                 0  \n",
       "10504  0.0               21.0                 1  \n",
       "10505  NaN             3650.0                 0  \n",
       "\n",
       "[10506 rows x 14 columns]"
      ]
     },
     "execution_count": 182,
     "metadata": {},
     "output_type": "execute_result"
    }
   ],
   "source": [
    "trainSprayCombined"
   ]
  },
  {
   "cell_type": "markdown",
   "metadata": {},
   "source": [
    "**Feature Engineering** to create new column 'Recently_Sprayed'. This column represents if the location has been recently sprayed, with the threshold being set to the mean of the column (disregarding the rows where 'Most_Recent_Spray'==3650).\n",
    "\n",
    "However, based on this criteria, only a small proportion of the locations have been recently sprayed (76 out of 10430). There is very little variance within the column, which means it might not be very useful (to be assessed later in the EDA/modelling parts)."
   ]
  },
  {
   "cell_type": "markdown",
   "metadata": {},
   "source": [
    "Import weather.csv file which may provide additional insights to the data."
   ]
  },
  {
   "cell_type": "code",
   "execution_count": 183,
   "metadata": {},
   "outputs": [
    {
     "data": {
      "text/html": [
       "<div>\n",
       "<style scoped>\n",
       "    .dataframe tbody tr th:only-of-type {\n",
       "        vertical-align: middle;\n",
       "    }\n",
       "\n",
       "    .dataframe tbody tr th {\n",
       "        vertical-align: top;\n",
       "    }\n",
       "\n",
       "    .dataframe thead th {\n",
       "        text-align: right;\n",
       "    }\n",
       "</style>\n",
       "<table border=\"1\" class=\"dataframe\">\n",
       "  <thead>\n",
       "    <tr style=\"text-align: right;\">\n",
       "      <th></th>\n",
       "      <th>Station</th>\n",
       "      <th>Date</th>\n",
       "      <th>Tmax</th>\n",
       "      <th>Tmin</th>\n",
       "      <th>Tavg</th>\n",
       "      <th>Depart</th>\n",
       "      <th>DewPoint</th>\n",
       "      <th>WetBulb</th>\n",
       "      <th>Heat</th>\n",
       "      <th>Cool</th>\n",
       "      <th>...</th>\n",
       "      <th>CodeSum</th>\n",
       "      <th>Depth</th>\n",
       "      <th>Water1</th>\n",
       "      <th>SnowFall</th>\n",
       "      <th>PrecipTotal</th>\n",
       "      <th>StnPressure</th>\n",
       "      <th>SeaLevel</th>\n",
       "      <th>ResultSpeed</th>\n",
       "      <th>ResultDir</th>\n",
       "      <th>AvgSpeed</th>\n",
       "    </tr>\n",
       "  </thead>\n",
       "  <tbody>\n",
       "    <tr>\n",
       "      <th>0</th>\n",
       "      <td>1</td>\n",
       "      <td>2007-05-01</td>\n",
       "      <td>83</td>\n",
       "      <td>50</td>\n",
       "      <td>67</td>\n",
       "      <td>14</td>\n",
       "      <td>51</td>\n",
       "      <td>56</td>\n",
       "      <td>0</td>\n",
       "      <td>2</td>\n",
       "      <td>...</td>\n",
       "      <td></td>\n",
       "      <td>0</td>\n",
       "      <td>M</td>\n",
       "      <td>0.0</td>\n",
       "      <td>0.00</td>\n",
       "      <td>29.10</td>\n",
       "      <td>29.82</td>\n",
       "      <td>1.7</td>\n",
       "      <td>27</td>\n",
       "      <td>9.2</td>\n",
       "    </tr>\n",
       "    <tr>\n",
       "      <th>1</th>\n",
       "      <td>2</td>\n",
       "      <td>2007-05-01</td>\n",
       "      <td>84</td>\n",
       "      <td>52</td>\n",
       "      <td>68</td>\n",
       "      <td>M</td>\n",
       "      <td>51</td>\n",
       "      <td>57</td>\n",
       "      <td>0</td>\n",
       "      <td>3</td>\n",
       "      <td>...</td>\n",
       "      <td></td>\n",
       "      <td>M</td>\n",
       "      <td>M</td>\n",
       "      <td>M</td>\n",
       "      <td>0.00</td>\n",
       "      <td>29.18</td>\n",
       "      <td>29.82</td>\n",
       "      <td>2.7</td>\n",
       "      <td>25</td>\n",
       "      <td>9.6</td>\n",
       "    </tr>\n",
       "    <tr>\n",
       "      <th>2</th>\n",
       "      <td>1</td>\n",
       "      <td>2007-05-02</td>\n",
       "      <td>59</td>\n",
       "      <td>42</td>\n",
       "      <td>51</td>\n",
       "      <td>-3</td>\n",
       "      <td>42</td>\n",
       "      <td>47</td>\n",
       "      <td>14</td>\n",
       "      <td>0</td>\n",
       "      <td>...</td>\n",
       "      <td>BR</td>\n",
       "      <td>0</td>\n",
       "      <td>M</td>\n",
       "      <td>0.0</td>\n",
       "      <td>0.00</td>\n",
       "      <td>29.38</td>\n",
       "      <td>30.09</td>\n",
       "      <td>13.0</td>\n",
       "      <td>4</td>\n",
       "      <td>13.4</td>\n",
       "    </tr>\n",
       "    <tr>\n",
       "      <th>3</th>\n",
       "      <td>2</td>\n",
       "      <td>2007-05-02</td>\n",
       "      <td>60</td>\n",
       "      <td>43</td>\n",
       "      <td>52</td>\n",
       "      <td>M</td>\n",
       "      <td>42</td>\n",
       "      <td>47</td>\n",
       "      <td>13</td>\n",
       "      <td>0</td>\n",
       "      <td>...</td>\n",
       "      <td>BR HZ</td>\n",
       "      <td>M</td>\n",
       "      <td>M</td>\n",
       "      <td>M</td>\n",
       "      <td>0.00</td>\n",
       "      <td>29.44</td>\n",
       "      <td>30.08</td>\n",
       "      <td>13.3</td>\n",
       "      <td>2</td>\n",
       "      <td>13.4</td>\n",
       "    </tr>\n",
       "    <tr>\n",
       "      <th>4</th>\n",
       "      <td>1</td>\n",
       "      <td>2007-05-03</td>\n",
       "      <td>66</td>\n",
       "      <td>46</td>\n",
       "      <td>56</td>\n",
       "      <td>2</td>\n",
       "      <td>40</td>\n",
       "      <td>48</td>\n",
       "      <td>9</td>\n",
       "      <td>0</td>\n",
       "      <td>...</td>\n",
       "      <td></td>\n",
       "      <td>0</td>\n",
       "      <td>M</td>\n",
       "      <td>0.0</td>\n",
       "      <td>0.00</td>\n",
       "      <td>29.39</td>\n",
       "      <td>30.12</td>\n",
       "      <td>11.7</td>\n",
       "      <td>7</td>\n",
       "      <td>11.9</td>\n",
       "    </tr>\n",
       "  </tbody>\n",
       "</table>\n",
       "<p>5 rows × 22 columns</p>\n",
       "</div>"
      ],
      "text/plain": [
       "   Station        Date  Tmax  Tmin Tavg Depart  DewPoint WetBulb Heat Cool  \\\n",
       "0        1  2007-05-01    83    50   67     14        51      56    0    2   \n",
       "1        2  2007-05-01    84    52   68      M        51      57    0    3   \n",
       "2        1  2007-05-02    59    42   51     -3        42      47   14    0   \n",
       "3        2  2007-05-02    60    43   52      M        42      47   13    0   \n",
       "4        1  2007-05-03    66    46   56      2        40      48    9    0   \n",
       "\n",
       "   ... CodeSum Depth Water1 SnowFall PrecipTotal StnPressure SeaLevel  \\\n",
       "0  ...             0      M      0.0        0.00       29.10    29.82   \n",
       "1  ...             M      M        M        0.00       29.18    29.82   \n",
       "2  ...      BR     0      M      0.0        0.00       29.38    30.09   \n",
       "3  ...   BR HZ     M      M        M        0.00       29.44    30.08   \n",
       "4  ...             0      M      0.0        0.00       29.39    30.12   \n",
       "\n",
       "  ResultSpeed ResultDir  AvgSpeed  \n",
       "0         1.7        27       9.2  \n",
       "1         2.7        25       9.6  \n",
       "2        13.0         4      13.4  \n",
       "3        13.3         2      13.4  \n",
       "4        11.7         7      11.9  \n",
       "\n",
       "[5 rows x 22 columns]"
      ]
     },
     "execution_count": 183,
     "metadata": {},
     "output_type": "execute_result"
    }
   ],
   "source": [
    "weatherDf = pd.read_csv('weather.csv')\n",
    "weatherDf.head()"
   ]
  },
  {
   "cell_type": "code",
   "execution_count": 184,
   "metadata": {},
   "outputs": [
    {
     "data": {
      "text/plain": [
       "(2944, 22)"
      ]
     },
     "execution_count": 184,
     "metadata": {},
     "output_type": "execute_result"
    }
   ],
   "source": [
    "weatherDf.shape"
   ]
  },
  {
   "cell_type": "markdown",
   "metadata": {},
   "source": [
    "The weatherDf contains 2944 rows and 22 columns."
   ]
  },
  {
   "cell_type": "code",
   "execution_count": 185,
   "metadata": {},
   "outputs": [
    {
     "data": {
      "text/plain": [
       "Station        0\n",
       "Date           0\n",
       "Tmax           0\n",
       "Tmin           0\n",
       "Tavg           0\n",
       "Depart         0\n",
       "DewPoint       0\n",
       "WetBulb        0\n",
       "Heat           0\n",
       "Cool           0\n",
       "Sunrise        0\n",
       "Sunset         0\n",
       "CodeSum        0\n",
       "Depth          0\n",
       "Water1         0\n",
       "SnowFall       0\n",
       "PrecipTotal    0\n",
       "StnPressure    0\n",
       "SeaLevel       0\n",
       "ResultSpeed    0\n",
       "ResultDir      0\n",
       "AvgSpeed       0\n",
       "dtype: int64"
      ]
     },
     "execution_count": 185,
     "metadata": {},
     "output_type": "execute_result"
    }
   ],
   "source": [
    "weatherDf.isnull().sum()"
   ]
  },
  {
   "cell_type": "markdown",
   "metadata": {},
   "source": [
    "For now, there seems to be no null values in this dataframe. However, the data dictionary suggests that there might still be missing values, denoted by 'M' or '-' for different columns. This will be examined later."
   ]
  },
  {
   "cell_type": "code",
   "execution_count": 186,
   "metadata": {},
   "outputs": [],
   "source": [
    "weatherDf['Date'] = pd.to_datetime(weatherDf['Date'])"
   ]
  },
  {
   "cell_type": "markdown",
   "metadata": {},
   "source": [
    "The weatherDf dataframe contains information from 2 different weather stations in Chicago:\n",
    "- Station 1: CHICAGO O'HARE INTERNATIONAL AIRPORT Lat: 41.995 Lon: -87.933 Elev: 662 ft. above sea level\n",
    "- Station 2: CHICAGO MIDWAY INTL ARPT Lat: 41.786 Lon: -87.752 Elev: 612 ft. above sea level\n",
    "\n",
    "Before merging this to the combined dataframe (with trainDf and sprayDf), we need to first determine which weather station to use for each row in the combined dataframe. This will be based on distance proximity - using the weather station that is closer to the collection lat/long location."
   ]
  },
  {
   "cell_type": "code",
   "execution_count": 187,
   "metadata": {},
   "outputs": [],
   "source": [
    "def calculateDistance(latDelta, longDelta):\n",
    "    return np.sqrt((latDelta)**2 + (longDelta)**2)"
   ]
  },
  {
   "cell_type": "code",
   "execution_count": 188,
   "metadata": {},
   "outputs": [],
   "source": [
    "def checkNearerStation(lat,long):\n",
    "    station1 = {'lat':41.995, 'long':-87.933}\n",
    "    station2 = {'lat':41.786, 'long':-87.752}\n",
    "    dist1 = calculateDistance(lat-station1['lat'], long-station1['long'])\n",
    "    dist2 = calculateDistance(lat-station2['lat'], long-station2['long'])\n",
    "    if dist1 < dist2:\n",
    "        station=1\n",
    "    else:\n",
    "        station=2\n",
    "    return station"
   ]
  },
  {
   "cell_type": "code",
   "execution_count": 189,
   "metadata": {},
   "outputs": [],
   "source": [
    "trainSprayCombinedW = trainSprayCombined.copy()"
   ]
  },
  {
   "cell_type": "code",
   "execution_count": 190,
   "metadata": {},
   "outputs": [],
   "source": [
    "trainSprayCombinedW['Station'] = trainSprayCombinedW.apply(lambda x: checkNearerStation(x['Latitude'], x['Longitude']),axis=1)"
   ]
  },
  {
   "cell_type": "code",
   "execution_count": 191,
   "metadata": {},
   "outputs": [
    {
     "data": {
      "text/html": [
       "<div>\n",
       "<style scoped>\n",
       "    .dataframe tbody tr th:only-of-type {\n",
       "        vertical-align: middle;\n",
       "    }\n",
       "\n",
       "    .dataframe tbody tr th {\n",
       "        vertical-align: top;\n",
       "    }\n",
       "\n",
       "    .dataframe thead th {\n",
       "        text-align: right;\n",
       "    }\n",
       "</style>\n",
       "<table border=\"1\" class=\"dataframe\">\n",
       "  <thead>\n",
       "    <tr style=\"text-align: right;\">\n",
       "      <th></th>\n",
       "      <th>Date</th>\n",
       "      <th>Species</th>\n",
       "      <th>Trap</th>\n",
       "      <th>Latitude</th>\n",
       "      <th>Longitude</th>\n",
       "      <th>AddressAccuracy</th>\n",
       "      <th>NumMosquitos</th>\n",
       "      <th>WnvPresent</th>\n",
       "      <th>count</th>\n",
       "      <th>max</th>\n",
       "      <th>min</th>\n",
       "      <th>ptp</th>\n",
       "      <th>Most_Recent_Spray</th>\n",
       "      <th>Recently_Sprayed</th>\n",
       "      <th>Station</th>\n",
       "    </tr>\n",
       "  </thead>\n",
       "  <tbody>\n",
       "    <tr>\n",
       "      <th>0</th>\n",
       "      <td>2007-05-29</td>\n",
       "      <td>CULEX PIPIENS/RESTUANS</td>\n",
       "      <td>T002</td>\n",
       "      <td>41.955</td>\n",
       "      <td>-87.801</td>\n",
       "      <td>9</td>\n",
       "      <td>1</td>\n",
       "      <td>0</td>\n",
       "      <td>NaN</td>\n",
       "      <td>NaT</td>\n",
       "      <td>NaT</td>\n",
       "      <td>NaN</td>\n",
       "      <td>3650.0</td>\n",
       "      <td>0</td>\n",
       "      <td>1</td>\n",
       "    </tr>\n",
       "    <tr>\n",
       "      <th>1</th>\n",
       "      <td>2007-05-29</td>\n",
       "      <td>CULEX RESTUANS</td>\n",
       "      <td>T002</td>\n",
       "      <td>41.955</td>\n",
       "      <td>-87.801</td>\n",
       "      <td>9</td>\n",
       "      <td>1</td>\n",
       "      <td>0</td>\n",
       "      <td>NaN</td>\n",
       "      <td>NaT</td>\n",
       "      <td>NaT</td>\n",
       "      <td>NaN</td>\n",
       "      <td>3650.0</td>\n",
       "      <td>0</td>\n",
       "      <td>1</td>\n",
       "    </tr>\n",
       "    <tr>\n",
       "      <th>2</th>\n",
       "      <td>2007-05-29</td>\n",
       "      <td>CULEX RESTUANS</td>\n",
       "      <td>T007</td>\n",
       "      <td>41.995</td>\n",
       "      <td>-87.769</td>\n",
       "      <td>9</td>\n",
       "      <td>1</td>\n",
       "      <td>0</td>\n",
       "      <td>NaN</td>\n",
       "      <td>NaT</td>\n",
       "      <td>NaT</td>\n",
       "      <td>NaN</td>\n",
       "      <td>3650.0</td>\n",
       "      <td>0</td>\n",
       "      <td>1</td>\n",
       "    </tr>\n",
       "    <tr>\n",
       "      <th>3</th>\n",
       "      <td>2007-05-29</td>\n",
       "      <td>CULEX PIPIENS/RESTUANS</td>\n",
       "      <td>T015</td>\n",
       "      <td>41.974</td>\n",
       "      <td>-87.825</td>\n",
       "      <td>8</td>\n",
       "      <td>1</td>\n",
       "      <td>0</td>\n",
       "      <td>1.0</td>\n",
       "      <td>2011-09-07</td>\n",
       "      <td>2011-09-07</td>\n",
       "      <td>0.0</td>\n",
       "      <td>3650.0</td>\n",
       "      <td>0</td>\n",
       "      <td>1</td>\n",
       "    </tr>\n",
       "    <tr>\n",
       "      <th>4</th>\n",
       "      <td>2007-05-29</td>\n",
       "      <td>CULEX RESTUANS</td>\n",
       "      <td>T015</td>\n",
       "      <td>41.974</td>\n",
       "      <td>-87.825</td>\n",
       "      <td>8</td>\n",
       "      <td>4</td>\n",
       "      <td>0</td>\n",
       "      <td>1.0</td>\n",
       "      <td>2011-09-07</td>\n",
       "      <td>2011-09-07</td>\n",
       "      <td>0.0</td>\n",
       "      <td>3650.0</td>\n",
       "      <td>0</td>\n",
       "      <td>1</td>\n",
       "    </tr>\n",
       "  </tbody>\n",
       "</table>\n",
       "</div>"
      ],
      "text/plain": [
       "        Date                 Species  Trap  Latitude  Longitude  \\\n",
       "0 2007-05-29  CULEX PIPIENS/RESTUANS  T002    41.955    -87.801   \n",
       "1 2007-05-29          CULEX RESTUANS  T002    41.955    -87.801   \n",
       "2 2007-05-29          CULEX RESTUANS  T007    41.995    -87.769   \n",
       "3 2007-05-29  CULEX PIPIENS/RESTUANS  T015    41.974    -87.825   \n",
       "4 2007-05-29          CULEX RESTUANS  T015    41.974    -87.825   \n",
       "\n",
       "   AddressAccuracy  NumMosquitos  WnvPresent  count        max        min  \\\n",
       "0                9             1           0    NaN        NaT        NaT   \n",
       "1                9             1           0    NaN        NaT        NaT   \n",
       "2                9             1           0    NaN        NaT        NaT   \n",
       "3                8             1           0    1.0 2011-09-07 2011-09-07   \n",
       "4                8             4           0    1.0 2011-09-07 2011-09-07   \n",
       "\n",
       "   ptp  Most_Recent_Spray  Recently_Sprayed  Station  \n",
       "0  NaN             3650.0                 0        1  \n",
       "1  NaN             3650.0                 0        1  \n",
       "2  NaN             3650.0                 0        1  \n",
       "3  0.0             3650.0                 0        1  \n",
       "4  0.0             3650.0                 0        1  "
      ]
     },
     "execution_count": 191,
     "metadata": {},
     "output_type": "execute_result"
    }
   ],
   "source": [
    "trainSprayCombinedW.head()"
   ]
  },
  {
   "cell_type": "code",
   "execution_count": 192,
   "metadata": {
    "scrolled": true
   },
   "outputs": [
    {
     "data": {
      "text/plain": [
       "2    0.782696\n",
       "1    0.217304\n",
       "Name: Station, dtype: float64"
      ]
     },
     "execution_count": 192,
     "metadata": {},
     "output_type": "execute_result"
    }
   ],
   "source": [
    "trainSprayCombinedW['Station'].value_counts(normalize=True)"
   ]
  },
  {
   "cell_type": "markdown",
   "metadata": {},
   "source": [
    "78% of the data collection points are closer to Station 2 in terms of distance proximity."
   ]
  },
  {
   "cell_type": "markdown",
   "metadata": {},
   "source": [
    "Merge the weather information to the combined dataframe, using both 'Date' and 'Station' as merge keys."
   ]
  },
  {
   "cell_type": "code",
   "execution_count": 193,
   "metadata": {},
   "outputs": [
    {
     "data": {
      "text/html": [
       "<div>\n",
       "<style scoped>\n",
       "    .dataframe tbody tr th:only-of-type {\n",
       "        vertical-align: middle;\n",
       "    }\n",
       "\n",
       "    .dataframe tbody tr th {\n",
       "        vertical-align: top;\n",
       "    }\n",
       "\n",
       "    .dataframe thead th {\n",
       "        text-align: right;\n",
       "    }\n",
       "</style>\n",
       "<table border=\"1\" class=\"dataframe\">\n",
       "  <thead>\n",
       "    <tr style=\"text-align: right;\">\n",
       "      <th></th>\n",
       "      <th>Date</th>\n",
       "      <th>Species</th>\n",
       "      <th>Trap</th>\n",
       "      <th>Latitude</th>\n",
       "      <th>Longitude</th>\n",
       "      <th>AddressAccuracy</th>\n",
       "      <th>NumMosquitos</th>\n",
       "      <th>WnvPresent</th>\n",
       "      <th>count</th>\n",
       "      <th>max</th>\n",
       "      <th>...</th>\n",
       "      <th>CodeSum</th>\n",
       "      <th>Depth</th>\n",
       "      <th>Water1</th>\n",
       "      <th>SnowFall</th>\n",
       "      <th>PrecipTotal</th>\n",
       "      <th>StnPressure</th>\n",
       "      <th>SeaLevel</th>\n",
       "      <th>ResultSpeed</th>\n",
       "      <th>ResultDir</th>\n",
       "      <th>AvgSpeed</th>\n",
       "    </tr>\n",
       "  </thead>\n",
       "  <tbody>\n",
       "    <tr>\n",
       "      <th>0</th>\n",
       "      <td>2007-05-29</td>\n",
       "      <td>CULEX PIPIENS/RESTUANS</td>\n",
       "      <td>T002</td>\n",
       "      <td>41.955</td>\n",
       "      <td>-87.801</td>\n",
       "      <td>9</td>\n",
       "      <td>1</td>\n",
       "      <td>0</td>\n",
       "      <td>NaN</td>\n",
       "      <td>NaT</td>\n",
       "      <td>...</td>\n",
       "      <td>BR HZ</td>\n",
       "      <td>0</td>\n",
       "      <td>M</td>\n",
       "      <td>0.0</td>\n",
       "      <td>0.00</td>\n",
       "      <td>29.39</td>\n",
       "      <td>30.11</td>\n",
       "      <td>5.8</td>\n",
       "      <td>18</td>\n",
       "      <td>6.5</td>\n",
       "    </tr>\n",
       "    <tr>\n",
       "      <th>1</th>\n",
       "      <td>2007-05-29</td>\n",
       "      <td>CULEX RESTUANS</td>\n",
       "      <td>T002</td>\n",
       "      <td>41.955</td>\n",
       "      <td>-87.801</td>\n",
       "      <td>9</td>\n",
       "      <td>1</td>\n",
       "      <td>0</td>\n",
       "      <td>NaN</td>\n",
       "      <td>NaT</td>\n",
       "      <td>...</td>\n",
       "      <td>BR HZ</td>\n",
       "      <td>0</td>\n",
       "      <td>M</td>\n",
       "      <td>0.0</td>\n",
       "      <td>0.00</td>\n",
       "      <td>29.39</td>\n",
       "      <td>30.11</td>\n",
       "      <td>5.8</td>\n",
       "      <td>18</td>\n",
       "      <td>6.5</td>\n",
       "    </tr>\n",
       "    <tr>\n",
       "      <th>2</th>\n",
       "      <td>2007-05-29</td>\n",
       "      <td>CULEX RESTUANS</td>\n",
       "      <td>T007</td>\n",
       "      <td>41.995</td>\n",
       "      <td>-87.769</td>\n",
       "      <td>9</td>\n",
       "      <td>1</td>\n",
       "      <td>0</td>\n",
       "      <td>NaN</td>\n",
       "      <td>NaT</td>\n",
       "      <td>...</td>\n",
       "      <td>BR HZ</td>\n",
       "      <td>0</td>\n",
       "      <td>M</td>\n",
       "      <td>0.0</td>\n",
       "      <td>0.00</td>\n",
       "      <td>29.39</td>\n",
       "      <td>30.11</td>\n",
       "      <td>5.8</td>\n",
       "      <td>18</td>\n",
       "      <td>6.5</td>\n",
       "    </tr>\n",
       "    <tr>\n",
       "      <th>3</th>\n",
       "      <td>2007-05-29</td>\n",
       "      <td>CULEX PIPIENS/RESTUANS</td>\n",
       "      <td>T015</td>\n",
       "      <td>41.974</td>\n",
       "      <td>-87.825</td>\n",
       "      <td>8</td>\n",
       "      <td>1</td>\n",
       "      <td>0</td>\n",
       "      <td>1.0</td>\n",
       "      <td>2011-09-07</td>\n",
       "      <td>...</td>\n",
       "      <td>BR HZ</td>\n",
       "      <td>0</td>\n",
       "      <td>M</td>\n",
       "      <td>0.0</td>\n",
       "      <td>0.00</td>\n",
       "      <td>29.39</td>\n",
       "      <td>30.11</td>\n",
       "      <td>5.8</td>\n",
       "      <td>18</td>\n",
       "      <td>6.5</td>\n",
       "    </tr>\n",
       "    <tr>\n",
       "      <th>4</th>\n",
       "      <td>2007-05-29</td>\n",
       "      <td>CULEX RESTUANS</td>\n",
       "      <td>T015</td>\n",
       "      <td>41.974</td>\n",
       "      <td>-87.825</td>\n",
       "      <td>8</td>\n",
       "      <td>4</td>\n",
       "      <td>0</td>\n",
       "      <td>1.0</td>\n",
       "      <td>2011-09-07</td>\n",
       "      <td>...</td>\n",
       "      <td>BR HZ</td>\n",
       "      <td>0</td>\n",
       "      <td>M</td>\n",
       "      <td>0.0</td>\n",
       "      <td>0.00</td>\n",
       "      <td>29.39</td>\n",
       "      <td>30.11</td>\n",
       "      <td>5.8</td>\n",
       "      <td>18</td>\n",
       "      <td>6.5</td>\n",
       "    </tr>\n",
       "  </tbody>\n",
       "</table>\n",
       "<p>5 rows × 35 columns</p>\n",
       "</div>"
      ],
      "text/plain": [
       "        Date                 Species  Trap  Latitude  Longitude  \\\n",
       "0 2007-05-29  CULEX PIPIENS/RESTUANS  T002    41.955    -87.801   \n",
       "1 2007-05-29          CULEX RESTUANS  T002    41.955    -87.801   \n",
       "2 2007-05-29          CULEX RESTUANS  T007    41.995    -87.769   \n",
       "3 2007-05-29  CULEX PIPIENS/RESTUANS  T015    41.974    -87.825   \n",
       "4 2007-05-29          CULEX RESTUANS  T015    41.974    -87.825   \n",
       "\n",
       "   AddressAccuracy  NumMosquitos  WnvPresent  count        max  ... CodeSum  \\\n",
       "0                9             1           0    NaN        NaT  ...   BR HZ   \n",
       "1                9             1           0    NaN        NaT  ...   BR HZ   \n",
       "2                9             1           0    NaN        NaT  ...   BR HZ   \n",
       "3                8             1           0    1.0 2011-09-07  ...   BR HZ   \n",
       "4                8             4           0    1.0 2011-09-07  ...   BR HZ   \n",
       "\n",
       "   Depth  Water1  SnowFall  PrecipTotal  StnPressure  SeaLevel ResultSpeed  \\\n",
       "0      0       M       0.0         0.00        29.39     30.11         5.8   \n",
       "1      0       M       0.0         0.00        29.39     30.11         5.8   \n",
       "2      0       M       0.0         0.00        29.39     30.11         5.8   \n",
       "3      0       M       0.0         0.00        29.39     30.11         5.8   \n",
       "4      0       M       0.0         0.00        29.39     30.11         5.8   \n",
       "\n",
       "  ResultDir  AvgSpeed  \n",
       "0        18       6.5  \n",
       "1        18       6.5  \n",
       "2        18       6.5  \n",
       "3        18       6.5  \n",
       "4        18       6.5  \n",
       "\n",
       "[5 rows x 35 columns]"
      ]
     },
     "execution_count": 193,
     "metadata": {},
     "output_type": "execute_result"
    }
   ],
   "source": [
    "trainSprayCombinedWeather = pd.merge(trainSprayCombinedW, weatherDf, \n",
    "                                     left_on=['Date','Station'], right_on=['Date','Station'], how='left')\n",
    "trainSprayCombinedWeather.head()"
   ]
  },
  {
   "cell_type": "code",
   "execution_count": 194,
   "metadata": {},
   "outputs": [
    {
     "data": {
      "text/plain": [
       "(10506, 35)"
      ]
     },
     "execution_count": 194,
     "metadata": {},
     "output_type": "execute_result"
    }
   ],
   "source": [
    "trainSprayCombinedWeather.shape"
   ]
  },
  {
   "cell_type": "code",
   "execution_count": 195,
   "metadata": {},
   "outputs": [
    {
     "data": {
      "text/plain": [
       "Date                    0\n",
       "Species                 0\n",
       "Trap                    0\n",
       "Latitude                0\n",
       "Longitude               0\n",
       "AddressAccuracy         0\n",
       "NumMosquitos            0\n",
       "WnvPresent              0\n",
       "count                9543\n",
       "max                  9543\n",
       "min                  9543\n",
       "ptp                  9543\n",
       "Most_Recent_Spray       0\n",
       "Recently_Sprayed        0\n",
       "Station                 0\n",
       "Tmax                    0\n",
       "Tmin                    0\n",
       "Tavg                    0\n",
       "Depart                  0\n",
       "DewPoint                0\n",
       "WetBulb                 0\n",
       "Heat                    0\n",
       "Cool                    0\n",
       "Sunrise                 0\n",
       "Sunset                  0\n",
       "CodeSum                 0\n",
       "Depth                   0\n",
       "Water1                  0\n",
       "SnowFall                0\n",
       "PrecipTotal             0\n",
       "StnPressure             0\n",
       "SeaLevel                0\n",
       "ResultSpeed             0\n",
       "ResultDir               0\n",
       "AvgSpeed                0\n",
       "dtype: int64"
      ]
     },
     "execution_count": 195,
     "metadata": {},
     "output_type": "execute_result"
    }
   ],
   "source": [
    "trainSprayCombinedWeather.isnull().sum()"
   ]
  },
  {
   "cell_type": "markdown",
   "metadata": {},
   "source": [
    "Since we did a left merge on the trainDf, the final combined dataframe will have the same number of rows as trainDf."
   ]
  },
  {
   "cell_type": "code",
   "execution_count": 197,
   "metadata": {},
   "outputs": [
    {
     "data": {
      "text/plain": [
       "Index(['Date', 'Species', 'Trap', 'Latitude', 'Longitude', 'AddressAccuracy',\n",
       "       'NumMosquitos', 'WnvPresent', 'count', 'max', 'min', 'ptp',\n",
       "       'Most_Recent_Spray', 'Recently_Sprayed', 'Station', 'Tmax', 'Tmin',\n",
       "       'Tavg', 'Depart', 'DewPoint', 'WetBulb', 'Heat', 'Cool', 'Sunrise',\n",
       "       'Sunset', 'CodeSum', 'Depth', 'Water1', 'SnowFall', 'PrecipTotal',\n",
       "       'StnPressure', 'SeaLevel', 'ResultSpeed', 'ResultDir', 'AvgSpeed'],\n",
       "      dtype='object')"
      ]
     },
     "execution_count": 197,
     "metadata": {},
     "output_type": "execute_result"
    }
   ],
   "source": [
    "trainSprayCombinedWeather.columns"
   ]
  },
  {
   "cell_type": "code",
   "execution_count": 198,
   "metadata": {},
   "outputs": [],
   "source": [
    "trainSprayCombinedWeather.drop(['Station','count','max','min','ptp'], axis=1, inplace=True)"
   ]
  },
  {
   "cell_type": "code",
   "execution_count": 199,
   "metadata": {},
   "outputs": [
    {
     "data": {
      "text/plain": [
       "Date                     0\n",
       "Species                  0\n",
       "Trap                     0\n",
       "Latitude                 0\n",
       "Longitude                0\n",
       "AddressAccuracy          0\n",
       "NumMosquitos             0\n",
       "WnvPresent               0\n",
       "Most_Recent_Spray        0\n",
       "Recently_Sprayed         0\n",
       "Tmax                     0\n",
       "Tmin                     0\n",
       "Tavg                     0\n",
       "Depart                8223\n",
       "DewPoint                 0\n",
       "WetBulb                 26\n",
       "Heat                     0\n",
       "Cool                     0\n",
       "Sunrise                  0\n",
       "Sunset                   0\n",
       "CodeSum                  0\n",
       "Depth                 8223\n",
       "Water1               10506\n",
       "SnowFall              8223\n",
       "PrecipTotal             35\n",
       "StnPressure             26\n",
       "SeaLevel                 0\n",
       "ResultSpeed              0\n",
       "ResultDir                0\n",
       "AvgSpeed                 0\n",
       "dtype: int64"
      ]
     },
     "execution_count": 199,
     "metadata": {},
     "output_type": "execute_result"
    }
   ],
   "source": [
    "trainSprayCombinedWeather.isin(['M']).sum()"
   ]
  },
  {
   "cell_type": "markdown",
   "metadata": {},
   "source": [
    "Out of 10506 rows, there are a few columns with high number of missing values ('M'):\n",
    "1. Water1 (10506 - 100%)\n",
    "2. Depart (8223 - 78%)\n",
    "3. Depth (8223 - 78%)\n",
    "4. SnowFall (8233 - 78%)\n",
    "\n",
    "We will drop these columns since they have mostly missing values."
   ]
  },
  {
   "cell_type": "code",
   "execution_count": 200,
   "metadata": {},
   "outputs": [],
   "source": [
    "trainSprayCombinedWeather.drop(['Water1','Depart','Depth','SnowFall'], axis=1, inplace=True)"
   ]
  },
  {
   "cell_type": "code",
   "execution_count": 201,
   "metadata": {},
   "outputs": [
    {
     "data": {
      "text/plain": [
       "Date                    0\n",
       "Species                 0\n",
       "Trap                    0\n",
       "Latitude                0\n",
       "Longitude               0\n",
       "AddressAccuracy         0\n",
       "NumMosquitos            0\n",
       "WnvPresent              0\n",
       "Most_Recent_Spray       0\n",
       "Recently_Sprayed        0\n",
       "Tmax                    0\n",
       "Tmin                    0\n",
       "Tavg                    0\n",
       "DewPoint                0\n",
       "WetBulb                 0\n",
       "Heat                    0\n",
       "Cool                    0\n",
       "Sunrise              8223\n",
       "Sunset               8223\n",
       "CodeSum                 0\n",
       "PrecipTotal             0\n",
       "StnPressure             0\n",
       "SeaLevel                0\n",
       "ResultSpeed             0\n",
       "ResultDir               0\n",
       "AvgSpeed                0\n",
       "dtype: int64"
      ]
     },
     "execution_count": 201,
     "metadata": {},
     "output_type": "execute_result"
    }
   ],
   "source": [
    "trainSprayCombinedWeather.isin(['-']).sum()"
   ]
  },
  {
   "cell_type": "markdown",
   "metadata": {},
   "source": [
    "Out of 10506 rows, there are a few columns with high number of missing values ('-'):\n",
    "1. Sunrise (8223 - 78%)\n",
    "2. Sunset (8223 - 78%)\n",
    "\n",
    "We will drop these columns since they have mostly missing values."
   ]
  },
  {
   "cell_type": "code",
   "execution_count": 202,
   "metadata": {},
   "outputs": [],
   "source": [
    "trainSprayCombinedWeather.drop(['Sunrise','Sunset'], axis=1, inplace=True)"
   ]
  },
  {
   "cell_type": "code",
   "execution_count": 203,
   "metadata": {},
   "outputs": [
    {
     "data": {
      "text/plain": [
       "Index(['Date', 'Species', 'Trap', 'Latitude', 'Longitude', 'AddressAccuracy',\n",
       "       'NumMosquitos', 'WnvPresent', 'Most_Recent_Spray', 'Recently_Sprayed',\n",
       "       'Tmax', 'Tmin', 'Tavg', 'DewPoint', 'WetBulb', 'Heat', 'Cool',\n",
       "       'CodeSum', 'PrecipTotal', 'StnPressure', 'SeaLevel', 'ResultSpeed',\n",
       "       'ResultDir', 'AvgSpeed'],\n",
       "      dtype='object')"
      ]
     },
     "execution_count": 203,
     "metadata": {},
     "output_type": "execute_result"
    }
   ],
   "source": [
    "trainSprayCombinedWeather.columns"
   ]
  },
  {
   "cell_type": "code",
   "execution_count": 204,
   "metadata": {},
   "outputs": [
    {
     "data": {
      "text/plain": [
       "Date                 datetime64[ns]\n",
       "Species                      object\n",
       "Trap                         object\n",
       "Latitude                    float64\n",
       "Longitude                   float64\n",
       "AddressAccuracy               int64\n",
       "NumMosquitos                  int64\n",
       "WnvPresent                    int64\n",
       "Most_Recent_Spray           float64\n",
       "Recently_Sprayed              int64\n",
       "Tmax                          int64\n",
       "Tmin                          int64\n",
       "Tavg                         object\n",
       "DewPoint                      int64\n",
       "WetBulb                      object\n",
       "Heat                         object\n",
       "Cool                         object\n",
       "CodeSum                      object\n",
       "PrecipTotal                  object\n",
       "StnPressure                  object\n",
       "SeaLevel                     object\n",
       "ResultSpeed                 float64\n",
       "ResultDir                     int64\n",
       "AvgSpeed                     object\n",
       "dtype: object"
      ]
     },
     "execution_count": 204,
     "metadata": {},
     "output_type": "execute_result"
    }
   ],
   "source": [
    "trainSprayCombinedWeather.dtypes"
   ]
  },
  {
   "cell_type": "markdown",
   "metadata": {},
   "source": [
    "After dropping these columns, there are still a few columns with some missing values:\n",
    "1. WetBulb (26)\n",
    "2. PrecipTotal (35)\n",
    "3. StnPressure(26)"
   ]
  },
  {
   "cell_type": "markdown",
   "metadata": {},
   "source": [
    "For columns without missing values, convert to correct data types first."
   ]
  },
  {
   "cell_type": "code",
   "execution_count": 205,
   "metadata": {},
   "outputs": [],
   "source": [
    "trainSprayCombinedWeather['Tavg'] = trainSprayCombinedWeather['Tavg'].astype(int)\n",
    "trainSprayCombinedWeather['Heat'] = trainSprayCombinedWeather['Heat'].astype(int)\n",
    "trainSprayCombinedWeather['Cool'] = trainSprayCombinedWeather['Cool'].astype(int)\n",
    "trainSprayCombinedWeather['SeaLevel'] = trainSprayCombinedWeather['SeaLevel'].astype(float)\n",
    "trainSprayCombinedWeather['AvgSpeed'] = trainSprayCombinedWeather['AvgSpeed'].astype(float)"
   ]
  },
  {
   "cell_type": "markdown",
   "metadata": {},
   "source": [
    "We can approximate missing values of WetBulb from DewPoint and temperature with this formula: Tavg-((Tavg-DewPoint)/3).\n",
    "\n",
    "Source: http://theweatherprediction.com/habyhints/170/"
   ]
  },
  {
   "cell_type": "code",
   "execution_count": 206,
   "metadata": {},
   "outputs": [],
   "source": [
    "def fillMissingWetBulb(tavg,dp,wb):\n",
    "    if wb=='M':\n",
    "        wb=tavg-((tavg-dp)/3)\n",
    "    return wb"
   ]
  },
  {
   "cell_type": "code",
   "execution_count": 207,
   "metadata": {
    "scrolled": false
   },
   "outputs": [],
   "source": [
    "trainSprayCombinedWeather['WetBulb'] = trainSprayCombinedWeather.apply(lambda x: fillMissingWetBulb(x['Tavg'],\n",
    "                                                                                                    x['DewPoint'],\n",
    "                                                                                                    x['WetBulb']), axis=1)"
   ]
  },
  {
   "cell_type": "markdown",
   "metadata": {},
   "source": [
    "For PrecipTotal and StnPressure, fill missing values with mode."
   ]
  },
  {
   "cell_type": "code",
   "execution_count": 208,
   "metadata": {},
   "outputs": [
    {
     "data": {
      "text/plain": [
       "array(['  T', '0.00', '0.01', '0.02', '0.03', '0.04', '0.06', '0.08',\n",
       "       '0.09', '0.11', '0.12', '0.13', '0.14', '0.16', '0.17', '0.19',\n",
       "       '0.20', '0.23', '0.24', '0.27', '0.33', '0.36', '0.39', '0.42',\n",
       "       '0.44', '0.46', '0.50', '0.52', '0.58', '0.59', '0.70', '0.79',\n",
       "       '0.83', '0.84', '0.87', '0.88', '0.89', '0.92', '0.95', '1.19',\n",
       "       '1.31', '1.55', '3.97', 'M'], dtype=object)"
      ]
     },
     "execution_count": 208,
     "metadata": {},
     "output_type": "execute_result"
    }
   ],
   "source": [
    "trainSprayCombinedWeather['PrecipTotal'].sort_values(ascending=True).unique()"
   ]
  },
  {
   "cell_type": "markdown",
   "metadata": {},
   "source": [
    "Assumption: T which stands for 'trace' amounts of precipitation, should be between 0.00 and 0.01; hence, it can be converted to 0.005."
   ]
  },
  {
   "cell_type": "code",
   "execution_count": 209,
   "metadata": {},
   "outputs": [],
   "source": [
    "trainSprayCombinedWeather['PrecipTotal'] = trainSprayCombinedWeather['PrecipTotal'].apply(lambda x: 0.005 if x=='  T' else x)"
   ]
  },
  {
   "cell_type": "code",
   "execution_count": 210,
   "metadata": {},
   "outputs": [
    {
     "data": {
      "text/plain": [
       "'0.00'"
      ]
     },
     "execution_count": 210,
     "metadata": {},
     "output_type": "execute_result"
    }
   ],
   "source": [
    "precipMode = trainSprayCombinedWeather['PrecipTotal'].mode()[0]\n",
    "precipMode"
   ]
  },
  {
   "cell_type": "code",
   "execution_count": 211,
   "metadata": {},
   "outputs": [],
   "source": [
    "trainSprayCombinedWeather['PrecipTotal'] = trainSprayCombinedWeather['PrecipTotal'].apply(lambda x: precipMode if x=='M' \n",
    "                                                                                          else x)"
   ]
  },
  {
   "cell_type": "code",
   "execution_count": 212,
   "metadata": {},
   "outputs": [],
   "source": [
    "trainSprayCombinedWeather['PrecipTotal'] = trainSprayCombinedWeather['PrecipTotal'].astype(float)"
   ]
  },
  {
   "cell_type": "code",
   "execution_count": 213,
   "metadata": {},
   "outputs": [
    {
     "data": {
      "text/plain": [
       "array(['29.39', '29.44', '29.10', '29.16', '29.45', '29.41', '29.47',\n",
       "       '29.49', '29.55', '29.23', '29.28', '29.11', '29.18', '29.26',\n",
       "       '29.21', '29.35', '29.29', '29.34', '29.31', '29.36', '29.06',\n",
       "       '29.19', '29.17', '29.33', '29.46', '29.27', '29.40', '29.42',\n",
       "       '29.24', '29.30', '28.97', '29.03', '29.15', '29.09', 'M', '29.20',\n",
       "       '28.95', '28.89', '29.14', '29.08', '29.13', '29.38', '29.48',\n",
       "       '29.51', '29.12', '29.25', '29.22', '29.32', '29.59', '29.65',\n",
       "       '29.37', '29.01', '28.91'], dtype=object)"
      ]
     },
     "execution_count": 213,
     "metadata": {},
     "output_type": "execute_result"
    }
   ],
   "source": [
    "trainSprayCombinedWeather['StnPressure'].unique()"
   ]
  },
  {
   "cell_type": "code",
   "execution_count": 214,
   "metadata": {},
   "outputs": [
    {
     "data": {
      "text/plain": [
       "'29.34'"
      ]
     },
     "execution_count": 214,
     "metadata": {},
     "output_type": "execute_result"
    }
   ],
   "source": [
    "stnPressureMode = trainSprayCombinedWeather['StnPressure'].mode()[0]\n",
    "stnPressureMode"
   ]
  },
  {
   "cell_type": "code",
   "execution_count": 215,
   "metadata": {},
   "outputs": [],
   "source": [
    "trainSprayCombinedWeather['StnPressure'] = trainSprayCombinedWeather['StnPressure'].apply(lambda x: stnPressureMode if x=='M' \n",
    "                                                                                          else x)"
   ]
  },
  {
   "cell_type": "code",
   "execution_count": 216,
   "metadata": {},
   "outputs": [],
   "source": [
    "trainSprayCombinedWeather['StnPressure'] = trainSprayCombinedWeather['StnPressure'].astype(float)"
   ]
  },
  {
   "cell_type": "markdown",
   "metadata": {},
   "source": [
    "**Feature Engineering** to group the weather phenomena. Based on Kaggle information, hot and dry conditions are more favourable for the West Nile virus as compared to cold and wet. We can group the 'CodeSum' variables based on these 2 categories.\n",
    "\n",
    "1. **Hot and Dry**: HZ (Haze), FU (Smoke), VA (Volcanic Ash)\n",
    "\n",
    "2. **Cold and Wet**: +FC (Tornado), FC (Funnel Cloud), TS (Thunderstorm), GR (Hail), RA (Rain), DZ (Drizzle), SN (Snow), SG (Snow Grains), GS (Small Hail), PL (Ice Pellets), IC (Ice Crystals), FG (Fog), BR (Mist), UP (Unknown Precipitation), PY (Spray), SQ (Squall), DR (Low Drifting), SH (Shower), FZ (Freezing), MI (shallow), PR (Partial), BC (Patches), BL (Blowing), VC (Vicinity), DU (Widespread Dust), DS (Duststorm), PO (Sand Whirls), SA (Sand), SS (Sandstorm)\n",
    "\n",
    "3. **Normal**: ' ' (Moderate)"
   ]
  },
  {
   "cell_type": "code",
   "execution_count": 217,
   "metadata": {},
   "outputs": [
    {
     "data": {
      "text/plain": [
       "array(['BR HZ', 'RA BR', 'TSRA BR HZ VCTS', ' ', 'TSRA RA BR VCTS',\n",
       "       'TS TSRA RA BR HZ VCTS', 'DZ BR', 'RA BR HZ', 'HZ', 'VCTS',\n",
       "       'TSRA RA DZ BR HZ', 'TSRA BR HZ', 'TSRA RA BR', 'TS TSRA RA BR',\n",
       "       'BR', 'TSRA RA', 'TSRA HZ', 'TSRA', 'RA', 'TS TSRA BR', 'RA DZ BR',\n",
       "       'TS TSRA BR HZ', 'TS TSRA RA VCTS', 'TSRA BR', 'TS BR', 'TS',\n",
       "       'FG BR HZ', 'TS TSRA RA FG BR HZ'], dtype=object)"
      ]
     },
     "execution_count": 217,
     "metadata": {},
     "output_type": "execute_result"
    }
   ],
   "source": [
    "trainSprayCombinedWeather['CodeSum'].unique()"
   ]
  },
  {
   "cell_type": "code",
   "execution_count": 218,
   "metadata": {},
   "outputs": [
    {
     "data": {
      "text/html": [
       "<div>\n",
       "<style scoped>\n",
       "    .dataframe tbody tr th:only-of-type {\n",
       "        vertical-align: middle;\n",
       "    }\n",
       "\n",
       "    .dataframe tbody tr th {\n",
       "        vertical-align: top;\n",
       "    }\n",
       "\n",
       "    .dataframe thead th {\n",
       "        text-align: right;\n",
       "    }\n",
       "</style>\n",
       "<table border=\"1\" class=\"dataframe\">\n",
       "  <thead>\n",
       "    <tr style=\"text-align: right;\">\n",
       "      <th></th>\n",
       "      <th>Date</th>\n",
       "      <th>Species</th>\n",
       "      <th>Trap</th>\n",
       "      <th>Latitude</th>\n",
       "      <th>Longitude</th>\n",
       "      <th>AddressAccuracy</th>\n",
       "      <th>NumMosquitos</th>\n",
       "      <th>WnvPresent</th>\n",
       "      <th>Most_Recent_Spray</th>\n",
       "      <th>Recently_Sprayed</th>\n",
       "      <th>...</th>\n",
       "      <th>Heat</th>\n",
       "      <th>Cool</th>\n",
       "      <th>CodeSum</th>\n",
       "      <th>PrecipTotal</th>\n",
       "      <th>StnPressure</th>\n",
       "      <th>SeaLevel</th>\n",
       "      <th>ResultSpeed</th>\n",
       "      <th>ResultDir</th>\n",
       "      <th>AvgSpeed</th>\n",
       "      <th>Weather</th>\n",
       "    </tr>\n",
       "  </thead>\n",
       "  <tbody>\n",
       "    <tr>\n",
       "      <th>0</th>\n",
       "      <td>2007-05-29</td>\n",
       "      <td>CULEX PIPIENS/RESTUANS</td>\n",
       "      <td>T002</td>\n",
       "      <td>41.955</td>\n",
       "      <td>-87.801</td>\n",
       "      <td>9</td>\n",
       "      <td>1</td>\n",
       "      <td>0</td>\n",
       "      <td>3650.0</td>\n",
       "      <td>0</td>\n",
       "      <td>...</td>\n",
       "      <td>0</td>\n",
       "      <td>9</td>\n",
       "      <td>BR HZ</td>\n",
       "      <td>0.0</td>\n",
       "      <td>29.39</td>\n",
       "      <td>30.11</td>\n",
       "      <td>5.8</td>\n",
       "      <td>18</td>\n",
       "      <td>6.5</td>\n",
       "      <td>coldAndWet</td>\n",
       "    </tr>\n",
       "    <tr>\n",
       "      <th>1</th>\n",
       "      <td>2007-05-29</td>\n",
       "      <td>CULEX RESTUANS</td>\n",
       "      <td>T002</td>\n",
       "      <td>41.955</td>\n",
       "      <td>-87.801</td>\n",
       "      <td>9</td>\n",
       "      <td>1</td>\n",
       "      <td>0</td>\n",
       "      <td>3650.0</td>\n",
       "      <td>0</td>\n",
       "      <td>...</td>\n",
       "      <td>0</td>\n",
       "      <td>9</td>\n",
       "      <td>BR HZ</td>\n",
       "      <td>0.0</td>\n",
       "      <td>29.39</td>\n",
       "      <td>30.11</td>\n",
       "      <td>5.8</td>\n",
       "      <td>18</td>\n",
       "      <td>6.5</td>\n",
       "      <td>coldAndWet</td>\n",
       "    </tr>\n",
       "    <tr>\n",
       "      <th>2</th>\n",
       "      <td>2007-05-29</td>\n",
       "      <td>CULEX RESTUANS</td>\n",
       "      <td>T007</td>\n",
       "      <td>41.995</td>\n",
       "      <td>-87.769</td>\n",
       "      <td>9</td>\n",
       "      <td>1</td>\n",
       "      <td>0</td>\n",
       "      <td>3650.0</td>\n",
       "      <td>0</td>\n",
       "      <td>...</td>\n",
       "      <td>0</td>\n",
       "      <td>9</td>\n",
       "      <td>BR HZ</td>\n",
       "      <td>0.0</td>\n",
       "      <td>29.39</td>\n",
       "      <td>30.11</td>\n",
       "      <td>5.8</td>\n",
       "      <td>18</td>\n",
       "      <td>6.5</td>\n",
       "      <td>coldAndWet</td>\n",
       "    </tr>\n",
       "    <tr>\n",
       "      <th>3</th>\n",
       "      <td>2007-05-29</td>\n",
       "      <td>CULEX PIPIENS/RESTUANS</td>\n",
       "      <td>T015</td>\n",
       "      <td>41.974</td>\n",
       "      <td>-87.825</td>\n",
       "      <td>8</td>\n",
       "      <td>1</td>\n",
       "      <td>0</td>\n",
       "      <td>3650.0</td>\n",
       "      <td>0</td>\n",
       "      <td>...</td>\n",
       "      <td>0</td>\n",
       "      <td>9</td>\n",
       "      <td>BR HZ</td>\n",
       "      <td>0.0</td>\n",
       "      <td>29.39</td>\n",
       "      <td>30.11</td>\n",
       "      <td>5.8</td>\n",
       "      <td>18</td>\n",
       "      <td>6.5</td>\n",
       "      <td>coldAndWet</td>\n",
       "    </tr>\n",
       "    <tr>\n",
       "      <th>4</th>\n",
       "      <td>2007-05-29</td>\n",
       "      <td>CULEX RESTUANS</td>\n",
       "      <td>T015</td>\n",
       "      <td>41.974</td>\n",
       "      <td>-87.825</td>\n",
       "      <td>8</td>\n",
       "      <td>4</td>\n",
       "      <td>0</td>\n",
       "      <td>3650.0</td>\n",
       "      <td>0</td>\n",
       "      <td>...</td>\n",
       "      <td>0</td>\n",
       "      <td>9</td>\n",
       "      <td>BR HZ</td>\n",
       "      <td>0.0</td>\n",
       "      <td>29.39</td>\n",
       "      <td>30.11</td>\n",
       "      <td>5.8</td>\n",
       "      <td>18</td>\n",
       "      <td>6.5</td>\n",
       "      <td>coldAndWet</td>\n",
       "    </tr>\n",
       "  </tbody>\n",
       "</table>\n",
       "<p>5 rows × 25 columns</p>\n",
       "</div>"
      ],
      "text/plain": [
       "        Date                 Species  Trap  Latitude  Longitude  \\\n",
       "0 2007-05-29  CULEX PIPIENS/RESTUANS  T002    41.955    -87.801   \n",
       "1 2007-05-29          CULEX RESTUANS  T002    41.955    -87.801   \n",
       "2 2007-05-29          CULEX RESTUANS  T007    41.995    -87.769   \n",
       "3 2007-05-29  CULEX PIPIENS/RESTUANS  T015    41.974    -87.825   \n",
       "4 2007-05-29          CULEX RESTUANS  T015    41.974    -87.825   \n",
       "\n",
       "   AddressAccuracy  NumMosquitos  WnvPresent  Most_Recent_Spray  \\\n",
       "0                9             1           0             3650.0   \n",
       "1                9             1           0             3650.0   \n",
       "2                9             1           0             3650.0   \n",
       "3                8             1           0             3650.0   \n",
       "4                8             4           0             3650.0   \n",
       "\n",
       "   Recently_Sprayed  ...  Heat  Cool  CodeSum  PrecipTotal StnPressure  \\\n",
       "0                 0  ...     0     9    BR HZ          0.0       29.39   \n",
       "1                 0  ...     0     9    BR HZ          0.0       29.39   \n",
       "2                 0  ...     0     9    BR HZ          0.0       29.39   \n",
       "3                 0  ...     0     9    BR HZ          0.0       29.39   \n",
       "4                 0  ...     0     9    BR HZ          0.0       29.39   \n",
       "\n",
       "   SeaLevel  ResultSpeed ResultDir  AvgSpeed     Weather  \n",
       "0     30.11          5.8        18       6.5  coldAndWet  \n",
       "1     30.11          5.8        18       6.5  coldAndWet  \n",
       "2     30.11          5.8        18       6.5  coldAndWet  \n",
       "3     30.11          5.8        18       6.5  coldAndWet  \n",
       "4     30.11          5.8        18       6.5  coldAndWet  \n",
       "\n",
       "[5 rows x 25 columns]"
      ]
     },
     "execution_count": 218,
     "metadata": {},
     "output_type": "execute_result"
    }
   ],
   "source": [
    "coldAndWet = ['FC','TS','GR','RA','DZ','SN','SG','GS','PL','IC','FG','BR','UP',\n",
    "              'PY','SQ','DR','SH','FZ','MI','PR','BC','BL','VC','DU','DS','PO','SA','SS']\n",
    "hotAndDry = ['HZ','FU','VA']\n",
    "\n",
    "def categoriseCodeSum(codesum):\n",
    "    if len(codesum)>2:\n",
    "        codesum = codesum[:2]\n",
    "    if codesum in coldAndWet:\n",
    "        return 'coldAndWet'\n",
    "    elif codesum == ' ':\n",
    "        return 'normal'\n",
    "    else:\n",
    "        return 'hotAndDry'\n",
    "    \n",
    "trainSprayCombinedWeather['Weather'] = trainSprayCombinedWeather['CodeSum'].apply(lambda x: categoriseCodeSum(x))\n",
    "trainSprayCombinedWeather.head()"
   ]
  },
  {
   "cell_type": "code",
   "execution_count": 219,
   "metadata": {},
   "outputs": [
    {
     "data": {
      "text/plain": [
       "normal        0.571197\n",
       "coldAndWet    0.411384\n",
       "hotAndDry     0.017419\n",
       "Name: Weather, dtype: float64"
      ]
     },
     "execution_count": 219,
     "metadata": {},
     "output_type": "execute_result"
    }
   ],
   "source": [
    "trainSprayCombinedWeather['Weather'].value_counts(normalize=True)"
   ]
  },
  {
   "cell_type": "markdown",
   "metadata": {},
   "source": [
    "**Feature Engineering** to create new columns for 'Day of Month', 'Month', 'Year', 'Day of Week'."
   ]
  },
  {
   "cell_type": "code",
   "execution_count": 220,
   "metadata": {},
   "outputs": [],
   "source": [
    "trainSprayCombinedWeather['Day_of_Month'] = trainSprayCombinedWeather['Date'].apply(lambda x: x.to_pydatetime().day)\n",
    "trainSprayCombinedWeather['Month'] = trainSprayCombinedWeather['Date'].apply(lambda x: x.to_pydatetime().month)\n",
    "trainSprayCombinedWeather['Year'] = trainSprayCombinedWeather['Date'].apply(lambda x: x.to_pydatetime().year)\n",
    "trainSprayCombinedWeather['Day_of_Week'] = trainSprayCombinedWeather['Date'].apply(lambda x: x.to_pydatetime().weekday())"
   ]
  },
  {
   "cell_type": "code",
   "execution_count": 221,
   "metadata": {
    "scrolled": true
   },
   "outputs": [
    {
     "data": {
      "text/html": [
       "<div>\n",
       "<style scoped>\n",
       "    .dataframe tbody tr th:only-of-type {\n",
       "        vertical-align: middle;\n",
       "    }\n",
       "\n",
       "    .dataframe tbody tr th {\n",
       "        vertical-align: top;\n",
       "    }\n",
       "\n",
       "    .dataframe thead th {\n",
       "        text-align: right;\n",
       "    }\n",
       "</style>\n",
       "<table border=\"1\" class=\"dataframe\">\n",
       "  <thead>\n",
       "    <tr style=\"text-align: right;\">\n",
       "      <th></th>\n",
       "      <th>Date</th>\n",
       "      <th>Species</th>\n",
       "      <th>Trap</th>\n",
       "      <th>Latitude</th>\n",
       "      <th>Longitude</th>\n",
       "      <th>AddressAccuracy</th>\n",
       "      <th>NumMosquitos</th>\n",
       "      <th>WnvPresent</th>\n",
       "      <th>Most_Recent_Spray</th>\n",
       "      <th>Recently_Sprayed</th>\n",
       "      <th>...</th>\n",
       "      <th>StnPressure</th>\n",
       "      <th>SeaLevel</th>\n",
       "      <th>ResultSpeed</th>\n",
       "      <th>ResultDir</th>\n",
       "      <th>AvgSpeed</th>\n",
       "      <th>Weather</th>\n",
       "      <th>Day_of_Month</th>\n",
       "      <th>Month</th>\n",
       "      <th>Year</th>\n",
       "      <th>Day_of_Week</th>\n",
       "    </tr>\n",
       "  </thead>\n",
       "  <tbody>\n",
       "    <tr>\n",
       "      <th>0</th>\n",
       "      <td>2007-05-29</td>\n",
       "      <td>CULEX PIPIENS/RESTUANS</td>\n",
       "      <td>T002</td>\n",
       "      <td>41.955</td>\n",
       "      <td>-87.801</td>\n",
       "      <td>9</td>\n",
       "      <td>1</td>\n",
       "      <td>0</td>\n",
       "      <td>3650.0</td>\n",
       "      <td>0</td>\n",
       "      <td>...</td>\n",
       "      <td>29.39</td>\n",
       "      <td>30.11</td>\n",
       "      <td>5.8</td>\n",
       "      <td>18</td>\n",
       "      <td>6.5</td>\n",
       "      <td>coldAndWet</td>\n",
       "      <td>29</td>\n",
       "      <td>5</td>\n",
       "      <td>2007</td>\n",
       "      <td>1</td>\n",
       "    </tr>\n",
       "    <tr>\n",
       "      <th>1</th>\n",
       "      <td>2007-05-29</td>\n",
       "      <td>CULEX RESTUANS</td>\n",
       "      <td>T002</td>\n",
       "      <td>41.955</td>\n",
       "      <td>-87.801</td>\n",
       "      <td>9</td>\n",
       "      <td>1</td>\n",
       "      <td>0</td>\n",
       "      <td>3650.0</td>\n",
       "      <td>0</td>\n",
       "      <td>...</td>\n",
       "      <td>29.39</td>\n",
       "      <td>30.11</td>\n",
       "      <td>5.8</td>\n",
       "      <td>18</td>\n",
       "      <td>6.5</td>\n",
       "      <td>coldAndWet</td>\n",
       "      <td>29</td>\n",
       "      <td>5</td>\n",
       "      <td>2007</td>\n",
       "      <td>1</td>\n",
       "    </tr>\n",
       "    <tr>\n",
       "      <th>2</th>\n",
       "      <td>2007-05-29</td>\n",
       "      <td>CULEX RESTUANS</td>\n",
       "      <td>T007</td>\n",
       "      <td>41.995</td>\n",
       "      <td>-87.769</td>\n",
       "      <td>9</td>\n",
       "      <td>1</td>\n",
       "      <td>0</td>\n",
       "      <td>3650.0</td>\n",
       "      <td>0</td>\n",
       "      <td>...</td>\n",
       "      <td>29.39</td>\n",
       "      <td>30.11</td>\n",
       "      <td>5.8</td>\n",
       "      <td>18</td>\n",
       "      <td>6.5</td>\n",
       "      <td>coldAndWet</td>\n",
       "      <td>29</td>\n",
       "      <td>5</td>\n",
       "      <td>2007</td>\n",
       "      <td>1</td>\n",
       "    </tr>\n",
       "    <tr>\n",
       "      <th>3</th>\n",
       "      <td>2007-05-29</td>\n",
       "      <td>CULEX PIPIENS/RESTUANS</td>\n",
       "      <td>T015</td>\n",
       "      <td>41.974</td>\n",
       "      <td>-87.825</td>\n",
       "      <td>8</td>\n",
       "      <td>1</td>\n",
       "      <td>0</td>\n",
       "      <td>3650.0</td>\n",
       "      <td>0</td>\n",
       "      <td>...</td>\n",
       "      <td>29.39</td>\n",
       "      <td>30.11</td>\n",
       "      <td>5.8</td>\n",
       "      <td>18</td>\n",
       "      <td>6.5</td>\n",
       "      <td>coldAndWet</td>\n",
       "      <td>29</td>\n",
       "      <td>5</td>\n",
       "      <td>2007</td>\n",
       "      <td>1</td>\n",
       "    </tr>\n",
       "    <tr>\n",
       "      <th>4</th>\n",
       "      <td>2007-05-29</td>\n",
       "      <td>CULEX RESTUANS</td>\n",
       "      <td>T015</td>\n",
       "      <td>41.974</td>\n",
       "      <td>-87.825</td>\n",
       "      <td>8</td>\n",
       "      <td>4</td>\n",
       "      <td>0</td>\n",
       "      <td>3650.0</td>\n",
       "      <td>0</td>\n",
       "      <td>...</td>\n",
       "      <td>29.39</td>\n",
       "      <td>30.11</td>\n",
       "      <td>5.8</td>\n",
       "      <td>18</td>\n",
       "      <td>6.5</td>\n",
       "      <td>coldAndWet</td>\n",
       "      <td>29</td>\n",
       "      <td>5</td>\n",
       "      <td>2007</td>\n",
       "      <td>1</td>\n",
       "    </tr>\n",
       "  </tbody>\n",
       "</table>\n",
       "<p>5 rows × 29 columns</p>\n",
       "</div>"
      ],
      "text/plain": [
       "        Date                 Species  Trap  Latitude  Longitude  \\\n",
       "0 2007-05-29  CULEX PIPIENS/RESTUANS  T002    41.955    -87.801   \n",
       "1 2007-05-29          CULEX RESTUANS  T002    41.955    -87.801   \n",
       "2 2007-05-29          CULEX RESTUANS  T007    41.995    -87.769   \n",
       "3 2007-05-29  CULEX PIPIENS/RESTUANS  T015    41.974    -87.825   \n",
       "4 2007-05-29          CULEX RESTUANS  T015    41.974    -87.825   \n",
       "\n",
       "   AddressAccuracy  NumMosquitos  WnvPresent  Most_Recent_Spray  \\\n",
       "0                9             1           0             3650.0   \n",
       "1                9             1           0             3650.0   \n",
       "2                9             1           0             3650.0   \n",
       "3                8             1           0             3650.0   \n",
       "4                8             4           0             3650.0   \n",
       "\n",
       "   Recently_Sprayed  ...  StnPressure  SeaLevel  ResultSpeed  ResultDir  \\\n",
       "0                 0  ...        29.39     30.11          5.8         18   \n",
       "1                 0  ...        29.39     30.11          5.8         18   \n",
       "2                 0  ...        29.39     30.11          5.8         18   \n",
       "3                 0  ...        29.39     30.11          5.8         18   \n",
       "4                 0  ...        29.39     30.11          5.8         18   \n",
       "\n",
       "  AvgSpeed     Weather  Day_of_Month Month  Year  Day_of_Week  \n",
       "0      6.5  coldAndWet            29     5  2007            1  \n",
       "1      6.5  coldAndWet            29     5  2007            1  \n",
       "2      6.5  coldAndWet            29     5  2007            1  \n",
       "3      6.5  coldAndWet            29     5  2007            1  \n",
       "4      6.5  coldAndWet            29     5  2007            1  \n",
       "\n",
       "[5 rows x 29 columns]"
      ]
     },
     "execution_count": 221,
     "metadata": {},
     "output_type": "execute_result"
    }
   ],
   "source": [
    "trainSprayCombinedWeather.head()"
   ]
  },
  {
   "cell_type": "code",
   "execution_count": 222,
   "metadata": {},
   "outputs": [],
   "source": [
    "trainSprayCombinedWeather.to_csv('trainSprayCombinedWeather.csv', index=False)"
   ]
  },
  {
   "cell_type": "markdown",
   "metadata": {},
   "source": [
    "**Repeat cleaning and feature engineering for test dataset**"
   ]
  },
  {
   "cell_type": "code",
   "execution_count": 223,
   "metadata": {},
   "outputs": [
    {
     "data": {
      "text/html": [
       "<div>\n",
       "<style scoped>\n",
       "    .dataframe tbody tr th:only-of-type {\n",
       "        vertical-align: middle;\n",
       "    }\n",
       "\n",
       "    .dataframe tbody tr th {\n",
       "        vertical-align: top;\n",
       "    }\n",
       "\n",
       "    .dataframe thead th {\n",
       "        text-align: right;\n",
       "    }\n",
       "</style>\n",
       "<table border=\"1\" class=\"dataframe\">\n",
       "  <thead>\n",
       "    <tr style=\"text-align: right;\">\n",
       "      <th></th>\n",
       "      <th>Id</th>\n",
       "      <th>Date</th>\n",
       "      <th>Address</th>\n",
       "      <th>Species</th>\n",
       "      <th>Block</th>\n",
       "      <th>Street</th>\n",
       "      <th>Trap</th>\n",
       "      <th>AddressNumberAndStreet</th>\n",
       "      <th>Latitude</th>\n",
       "      <th>Longitude</th>\n",
       "      <th>AddressAccuracy</th>\n",
       "    </tr>\n",
       "  </thead>\n",
       "  <tbody>\n",
       "    <tr>\n",
       "      <th>0</th>\n",
       "      <td>1</td>\n",
       "      <td>2008-06-11</td>\n",
       "      <td>4100 North Oak Park Avenue, Chicago, IL 60634,...</td>\n",
       "      <td>CULEX PIPIENS/RESTUANS</td>\n",
       "      <td>41</td>\n",
       "      <td>N OAK PARK AVE</td>\n",
       "      <td>T002</td>\n",
       "      <td>4100  N OAK PARK AVE, Chicago, IL</td>\n",
       "      <td>41.95469</td>\n",
       "      <td>-87.800991</td>\n",
       "      <td>9</td>\n",
       "    </tr>\n",
       "    <tr>\n",
       "      <th>1</th>\n",
       "      <td>2</td>\n",
       "      <td>2008-06-11</td>\n",
       "      <td>4100 North Oak Park Avenue, Chicago, IL 60634,...</td>\n",
       "      <td>CULEX RESTUANS</td>\n",
       "      <td>41</td>\n",
       "      <td>N OAK PARK AVE</td>\n",
       "      <td>T002</td>\n",
       "      <td>4100  N OAK PARK AVE, Chicago, IL</td>\n",
       "      <td>41.95469</td>\n",
       "      <td>-87.800991</td>\n",
       "      <td>9</td>\n",
       "    </tr>\n",
       "    <tr>\n",
       "      <th>2</th>\n",
       "      <td>3</td>\n",
       "      <td>2008-06-11</td>\n",
       "      <td>4100 North Oak Park Avenue, Chicago, IL 60634,...</td>\n",
       "      <td>CULEX PIPIENS</td>\n",
       "      <td>41</td>\n",
       "      <td>N OAK PARK AVE</td>\n",
       "      <td>T002</td>\n",
       "      <td>4100  N OAK PARK AVE, Chicago, IL</td>\n",
       "      <td>41.95469</td>\n",
       "      <td>-87.800991</td>\n",
       "      <td>9</td>\n",
       "    </tr>\n",
       "    <tr>\n",
       "      <th>3</th>\n",
       "      <td>4</td>\n",
       "      <td>2008-06-11</td>\n",
       "      <td>4100 North Oak Park Avenue, Chicago, IL 60634,...</td>\n",
       "      <td>CULEX SALINARIUS</td>\n",
       "      <td>41</td>\n",
       "      <td>N OAK PARK AVE</td>\n",
       "      <td>T002</td>\n",
       "      <td>4100  N OAK PARK AVE, Chicago, IL</td>\n",
       "      <td>41.95469</td>\n",
       "      <td>-87.800991</td>\n",
       "      <td>9</td>\n",
       "    </tr>\n",
       "    <tr>\n",
       "      <th>4</th>\n",
       "      <td>5</td>\n",
       "      <td>2008-06-11</td>\n",
       "      <td>4100 North Oak Park Avenue, Chicago, IL 60634,...</td>\n",
       "      <td>CULEX TERRITANS</td>\n",
       "      <td>41</td>\n",
       "      <td>N OAK PARK AVE</td>\n",
       "      <td>T002</td>\n",
       "      <td>4100  N OAK PARK AVE, Chicago, IL</td>\n",
       "      <td>41.95469</td>\n",
       "      <td>-87.800991</td>\n",
       "      <td>9</td>\n",
       "    </tr>\n",
       "  </tbody>\n",
       "</table>\n",
       "</div>"
      ],
      "text/plain": [
       "   Id        Date                                            Address  \\\n",
       "0   1  2008-06-11  4100 North Oak Park Avenue, Chicago, IL 60634,...   \n",
       "1   2  2008-06-11  4100 North Oak Park Avenue, Chicago, IL 60634,...   \n",
       "2   3  2008-06-11  4100 North Oak Park Avenue, Chicago, IL 60634,...   \n",
       "3   4  2008-06-11  4100 North Oak Park Avenue, Chicago, IL 60634,...   \n",
       "4   5  2008-06-11  4100 North Oak Park Avenue, Chicago, IL 60634,...   \n",
       "\n",
       "                  Species  Block           Street  Trap  \\\n",
       "0  CULEX PIPIENS/RESTUANS     41   N OAK PARK AVE  T002   \n",
       "1          CULEX RESTUANS     41   N OAK PARK AVE  T002   \n",
       "2           CULEX PIPIENS     41   N OAK PARK AVE  T002   \n",
       "3        CULEX SALINARIUS     41   N OAK PARK AVE  T002   \n",
       "4         CULEX TERRITANS     41   N OAK PARK AVE  T002   \n",
       "\n",
       "              AddressNumberAndStreet  Latitude  Longitude  AddressAccuracy  \n",
       "0  4100  N OAK PARK AVE, Chicago, IL  41.95469 -87.800991                9  \n",
       "1  4100  N OAK PARK AVE, Chicago, IL  41.95469 -87.800991                9  \n",
       "2  4100  N OAK PARK AVE, Chicago, IL  41.95469 -87.800991                9  \n",
       "3  4100  N OAK PARK AVE, Chicago, IL  41.95469 -87.800991                9  \n",
       "4  4100  N OAK PARK AVE, Chicago, IL  41.95469 -87.800991                9  "
      ]
     },
     "execution_count": 223,
     "metadata": {},
     "output_type": "execute_result"
    }
   ],
   "source": [
    "testDf = pd.read_csv('test.csv')\n",
    "testDf.head()"
   ]
  },
  {
   "cell_type": "code",
   "execution_count": 224,
   "metadata": {},
   "outputs": [
    {
     "data": {
      "text/plain": [
       "(116293, 11)"
      ]
     },
     "execution_count": 224,
     "metadata": {},
     "output_type": "execute_result"
    }
   ],
   "source": [
    "testDf.shape"
   ]
  },
  {
   "cell_type": "code",
   "execution_count": 225,
   "metadata": {},
   "outputs": [],
   "source": [
    "def cleanData(df):\n",
    "    df.drop(['Address','Block','Street','AddressNumberAndStreet'],axis=1,inplace=True)\n",
    "    df['Date'] = pd.to_datetime(df['Date'])\n",
    "    df['Latitude'] = df['Latitude'].round(3)\n",
    "    df['Longitude'] = df['Longitude'].round(3)\n",
    "    df = pd.merge(df,spray1,on=['Latitude','Longitude'],how='left')\n",
    "    print(df[df['ptp']>0])\n",
    "    df['Date'] = pd.to_datetime(df['Date'])\n",
    "    df['Most_Recent_Spray'] = df['Date']-df['min']\n",
    "    df['Most_Recent_Spray'] = df['Most_Recent_Spray'].dt.days\n",
    "    df['Most_Recent_Spray'] = df['Most_Recent_Spray'].apply(lambda x: x if x > 0 else 3650)\n",
    "    df['Recently_Sprayed'] = (df['Most_Recent_Spray']<201).astype(int)\n",
    "    df['Station'] = df.apply(lambda x: checkNearerStation(x['Latitude'], x['Longitude']),axis=1)\n",
    "    df = pd.merge(df, weatherDf, left_on=['Date','Station'], right_on=['Date','Station'], how='left')\n",
    "    df.drop(['Station','count','max','min','ptp','Trap'], axis=1, inplace=True)\n",
    "    df.drop(['Water1','Depart','Depth','SnowFall'], axis=1, inplace=True)\n",
    "    df.drop(['Sunrise','Sunset'], axis=1, inplace=True)\n",
    "    df['Tavg'] = df['Tavg'].astype(int)\n",
    "    df['Heat'] = df['Heat'].astype(int)\n",
    "    df['Cool'] = df['Cool'].astype(int)\n",
    "    df['SeaLevel'] = df['SeaLevel'].astype(float)\n",
    "    df['AvgSpeed'] = df['AvgSpeed'].astype(float)\n",
    "    df['WetBulb'] = df.apply(lambda x: fillMissingWetBulb(x['Tavg'], x['DewPoint'], x['WetBulb']), axis=1)\n",
    "    df['PrecipTotal'] = df['PrecipTotal'].apply(lambda x: 0.005 if x=='  T' else x)\n",
    "    precipMode = df['PrecipTotal'].mode()[0]\n",
    "    df['PrecipTotal'] = df['PrecipTotal'].apply(lambda x: precipMode if x=='M' else x)\n",
    "    df['PrecipTotal'] = df['PrecipTotal'].astype(float)\n",
    "    stnPressureMode = df['StnPressure'].mode()[0]\n",
    "    df['StnPressure'] = df['StnPressure'].apply(lambda x: stnPressureMode if x=='M' else x)\n",
    "    df['StnPressure'] = df['StnPressure'].astype(float)\n",
    "    df['Weather'] = df['CodeSum'].apply(lambda x: categoriseCodeSum(x))\n",
    "    df['Day_of_Month'] = df['Date'].apply(lambda x: x.to_pydatetime().day)\n",
    "    df['Month'] = df['Date'].apply(lambda x: x.to_pydatetime().month)\n",
    "    df['Year'] = df['Date'].apply(lambda x: x.to_pydatetime().year)\n",
    "    df['Day_of_Week'] = df['Date'].apply(lambda x: x.to_pydatetime().weekday())\n",
    "    return df"
   ]
  },
  {
   "cell_type": "code",
   "execution_count": 226,
   "metadata": {},
   "outputs": [
    {
     "name": "stdout",
     "output_type": "stream",
     "text": [
      "Empty DataFrame\n",
      "Columns: [Id, Date, Species, Trap, Latitude, Longitude, AddressAccuracy, count, max, min, ptp]\n",
      "Index: []\n"
     ]
    }
   ],
   "source": [
    "testDf = cleanData(testDf)"
   ]
  },
  {
   "cell_type": "code",
   "execution_count": 227,
   "metadata": {},
   "outputs": [
    {
     "data": {
      "text/html": [
       "<div>\n",
       "<style scoped>\n",
       "    .dataframe tbody tr th:only-of-type {\n",
       "        vertical-align: middle;\n",
       "    }\n",
       "\n",
       "    .dataframe tbody tr th {\n",
       "        vertical-align: top;\n",
       "    }\n",
       "\n",
       "    .dataframe thead th {\n",
       "        text-align: right;\n",
       "    }\n",
       "</style>\n",
       "<table border=\"1\" class=\"dataframe\">\n",
       "  <thead>\n",
       "    <tr style=\"text-align: right;\">\n",
       "      <th></th>\n",
       "      <th>Id</th>\n",
       "      <th>Date</th>\n",
       "      <th>Species</th>\n",
       "      <th>Latitude</th>\n",
       "      <th>Longitude</th>\n",
       "      <th>AddressAccuracy</th>\n",
       "      <th>Most_Recent_Spray</th>\n",
       "      <th>Recently_Sprayed</th>\n",
       "      <th>Tmax</th>\n",
       "      <th>Tmin</th>\n",
       "      <th>...</th>\n",
       "      <th>StnPressure</th>\n",
       "      <th>SeaLevel</th>\n",
       "      <th>ResultSpeed</th>\n",
       "      <th>ResultDir</th>\n",
       "      <th>AvgSpeed</th>\n",
       "      <th>Weather</th>\n",
       "      <th>Day_of_Month</th>\n",
       "      <th>Month</th>\n",
       "      <th>Year</th>\n",
       "      <th>Day_of_Week</th>\n",
       "    </tr>\n",
       "  </thead>\n",
       "  <tbody>\n",
       "    <tr>\n",
       "      <th>0</th>\n",
       "      <td>1</td>\n",
       "      <td>2008-06-11</td>\n",
       "      <td>CULEX PIPIENS/RESTUANS</td>\n",
       "      <td>41.955</td>\n",
       "      <td>-87.801</td>\n",
       "      <td>9</td>\n",
       "      <td>3650.0</td>\n",
       "      <td>0</td>\n",
       "      <td>86</td>\n",
       "      <td>61</td>\n",
       "      <td>...</td>\n",
       "      <td>29.28</td>\n",
       "      <td>29.99</td>\n",
       "      <td>8.9</td>\n",
       "      <td>18</td>\n",
       "      <td>10.0</td>\n",
       "      <td>normal</td>\n",
       "      <td>11</td>\n",
       "      <td>6</td>\n",
       "      <td>2008</td>\n",
       "      <td>2</td>\n",
       "    </tr>\n",
       "    <tr>\n",
       "      <th>1</th>\n",
       "      <td>2</td>\n",
       "      <td>2008-06-11</td>\n",
       "      <td>CULEX RESTUANS</td>\n",
       "      <td>41.955</td>\n",
       "      <td>-87.801</td>\n",
       "      <td>9</td>\n",
       "      <td>3650.0</td>\n",
       "      <td>0</td>\n",
       "      <td>86</td>\n",
       "      <td>61</td>\n",
       "      <td>...</td>\n",
       "      <td>29.28</td>\n",
       "      <td>29.99</td>\n",
       "      <td>8.9</td>\n",
       "      <td>18</td>\n",
       "      <td>10.0</td>\n",
       "      <td>normal</td>\n",
       "      <td>11</td>\n",
       "      <td>6</td>\n",
       "      <td>2008</td>\n",
       "      <td>2</td>\n",
       "    </tr>\n",
       "    <tr>\n",
       "      <th>2</th>\n",
       "      <td>3</td>\n",
       "      <td>2008-06-11</td>\n",
       "      <td>CULEX PIPIENS</td>\n",
       "      <td>41.955</td>\n",
       "      <td>-87.801</td>\n",
       "      <td>9</td>\n",
       "      <td>3650.0</td>\n",
       "      <td>0</td>\n",
       "      <td>86</td>\n",
       "      <td>61</td>\n",
       "      <td>...</td>\n",
       "      <td>29.28</td>\n",
       "      <td>29.99</td>\n",
       "      <td>8.9</td>\n",
       "      <td>18</td>\n",
       "      <td>10.0</td>\n",
       "      <td>normal</td>\n",
       "      <td>11</td>\n",
       "      <td>6</td>\n",
       "      <td>2008</td>\n",
       "      <td>2</td>\n",
       "    </tr>\n",
       "    <tr>\n",
       "      <th>3</th>\n",
       "      <td>4</td>\n",
       "      <td>2008-06-11</td>\n",
       "      <td>CULEX SALINARIUS</td>\n",
       "      <td>41.955</td>\n",
       "      <td>-87.801</td>\n",
       "      <td>9</td>\n",
       "      <td>3650.0</td>\n",
       "      <td>0</td>\n",
       "      <td>86</td>\n",
       "      <td>61</td>\n",
       "      <td>...</td>\n",
       "      <td>29.28</td>\n",
       "      <td>29.99</td>\n",
       "      <td>8.9</td>\n",
       "      <td>18</td>\n",
       "      <td>10.0</td>\n",
       "      <td>normal</td>\n",
       "      <td>11</td>\n",
       "      <td>6</td>\n",
       "      <td>2008</td>\n",
       "      <td>2</td>\n",
       "    </tr>\n",
       "    <tr>\n",
       "      <th>4</th>\n",
       "      <td>5</td>\n",
       "      <td>2008-06-11</td>\n",
       "      <td>CULEX TERRITANS</td>\n",
       "      <td>41.955</td>\n",
       "      <td>-87.801</td>\n",
       "      <td>9</td>\n",
       "      <td>3650.0</td>\n",
       "      <td>0</td>\n",
       "      <td>86</td>\n",
       "      <td>61</td>\n",
       "      <td>...</td>\n",
       "      <td>29.28</td>\n",
       "      <td>29.99</td>\n",
       "      <td>8.9</td>\n",
       "      <td>18</td>\n",
       "      <td>10.0</td>\n",
       "      <td>normal</td>\n",
       "      <td>11</td>\n",
       "      <td>6</td>\n",
       "      <td>2008</td>\n",
       "      <td>2</td>\n",
       "    </tr>\n",
       "  </tbody>\n",
       "</table>\n",
       "<p>5 rows × 27 columns</p>\n",
       "</div>"
      ],
      "text/plain": [
       "   Id       Date                 Species  Latitude  Longitude  \\\n",
       "0   1 2008-06-11  CULEX PIPIENS/RESTUANS    41.955    -87.801   \n",
       "1   2 2008-06-11          CULEX RESTUANS    41.955    -87.801   \n",
       "2   3 2008-06-11           CULEX PIPIENS    41.955    -87.801   \n",
       "3   4 2008-06-11        CULEX SALINARIUS    41.955    -87.801   \n",
       "4   5 2008-06-11         CULEX TERRITANS    41.955    -87.801   \n",
       "\n",
       "   AddressAccuracy  Most_Recent_Spray  Recently_Sprayed  Tmax  Tmin  ...  \\\n",
       "0                9             3650.0                 0    86    61  ...   \n",
       "1                9             3650.0                 0    86    61  ...   \n",
       "2                9             3650.0                 0    86    61  ...   \n",
       "3                9             3650.0                 0    86    61  ...   \n",
       "4                9             3650.0                 0    86    61  ...   \n",
       "\n",
       "   StnPressure  SeaLevel ResultSpeed  ResultDir  AvgSpeed Weather  \\\n",
       "0        29.28     29.99         8.9         18      10.0  normal   \n",
       "1        29.28     29.99         8.9         18      10.0  normal   \n",
       "2        29.28     29.99         8.9         18      10.0  normal   \n",
       "3        29.28     29.99         8.9         18      10.0  normal   \n",
       "4        29.28     29.99         8.9         18      10.0  normal   \n",
       "\n",
       "   Day_of_Month  Month  Year  Day_of_Week  \n",
       "0            11      6  2008            2  \n",
       "1            11      6  2008            2  \n",
       "2            11      6  2008            2  \n",
       "3            11      6  2008            2  \n",
       "4            11      6  2008            2  \n",
       "\n",
       "[5 rows x 27 columns]"
      ]
     },
     "execution_count": 227,
     "metadata": {},
     "output_type": "execute_result"
    }
   ],
   "source": [
    "testDf.head()"
   ]
  },
  {
   "cell_type": "code",
   "execution_count": 228,
   "metadata": {},
   "outputs": [
    {
     "data": {
      "text/plain": [
       "(116293, 27)"
      ]
     },
     "execution_count": 228,
     "metadata": {},
     "output_type": "execute_result"
    }
   ],
   "source": [
    "testDf.shape"
   ]
  },
  {
   "cell_type": "code",
   "execution_count": 229,
   "metadata": {},
   "outputs": [],
   "source": [
    "testDf.to_csv('testDf.csv', index=False)"
   ]
  },
  {
   "cell_type": "markdown",
   "metadata": {},
   "source": [
    "## Explatory Data Analysis and Cleaning"
   ]
  },
  {
   "cell_type": "markdown",
   "metadata": {},
   "source": [
    "## Final Analysis and Conclusion"
   ]
  },
  {
   "cell_type": "markdown",
   "metadata": {},
   "source": []
  },
  {
   "cell_type": "markdown",
   "metadata": {},
   "source": []
  }
 ],
 "metadata": {
  "anaconda-cloud": {},
  "kernelspec": {
   "display_name": "Python 3",
   "language": "python",
   "name": "python3"
  },
  "language_info": {
   "codemirror_mode": {
    "name": "ipython",
    "version": 3
   },
   "file_extension": ".py",
   "mimetype": "text/x-python",
   "name": "python",
   "nbconvert_exporter": "python",
   "pygments_lexer": "ipython3",
   "version": "3.7.3"
  }
 },
 "nbformat": 4,
 "nbformat_minor": 2
}
